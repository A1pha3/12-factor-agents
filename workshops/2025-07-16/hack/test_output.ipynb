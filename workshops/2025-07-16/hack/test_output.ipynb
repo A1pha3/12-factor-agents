{
 "cells": [
  {
   "cell_type": "markdown",
   "id": "fedb829e",
   "metadata": {},
   "source": [
    "# Test Walkthrough"
   ]
  },
  {
   "cell_type": "markdown",
   "id": "3c45031e",
   "metadata": {},
   "source": [
    "This is a test walkthrough to verify the script works."
   ]
  },
  {
   "cell_type": "code",
   "execution_count": null,
   "id": "6ce41a36",
   "metadata": {},
   "outputs": [],
   "source": [
    "!pip install baml-py"
   ]
  },
  {
   "cell_type": "code",
   "execution_count": null,
   "id": "ec52f527",
   "metadata": {},
   "outputs": [],
   "source": [
    "import subprocess\n",
    "from google.colab import userdata\n",
    "import os\n",
    "\n",
    "def baml_generate():\n",
    "    try:\n",
    "        result = subprocess.run(\n",
    "            [\"baml-cli\", \"generate\"],\n",
    "            check=True,\n",
    "            capture_output=True,\n",
    "            text=True\n",
    "        )\n",
    "        if result.stdout:\n",
    "            print(\"[baml-cli generate]\\n\", result.stdout)\n",
    "        if result.stderr:\n",
    "            print(\"[baml-cli generate]\\n\", result.stderr)\n",
    "    except subprocess.CalledProcessError as e:\n",
    "        msg = (\n",
    "            f\"`baml-cli generate` failed with exit code {e.returncode}\\n\"\n",
    "            f\"--- STDOUT ---\\n{e.stdout}\\n\"\n",
    "            f\"--- STDERR ---\\n{e.stderr}\"\n",
    "        )\n",
    "        raise RuntimeError(msg) from None\n",
    "\n",
    "def get_baml_client():\n",
    "    \"\"\"\n",
    "    a bunch of fun jank to work around the google colab import cache\n",
    "    \"\"\"\n",
    "    os.environ['OPENAI_API_KEY'] = userdata.get('OPENAI_API_KEY')\n",
    "    \n",
    "    baml_generate()\n",
    "    \n",
    "    import importlib\n",
    "    import baml_client\n",
    "    importlib.reload(baml_client)\n",
    "    return baml_client.sync_client.b\n"
   ]
  },
  {
   "cell_type": "code",
   "execution_count": null,
   "id": "50969900",
   "metadata": {},
   "outputs": [],
   "source": [
    "!baml-cli init"
   ]
  },
  {
   "cell_type": "markdown",
   "id": "296fdf4b",
   "metadata": {},
   "source": [
    "## Test Section"
   ]
  },
  {
   "cell_type": "markdown",
   "id": "54ee6e14",
   "metadata": {},
   "source": [
    "This is a test section."
   ]
  },
  {
   "cell_type": "markdown",
   "id": "87503005",
   "metadata": {},
   "source": [
    "This is a test markdown cell"
   ]
  },
  {
   "cell_type": "code",
   "execution_count": null,
   "id": "ddb13aa9",
   "metadata": {},
   "outputs": [],
   "source": [
    "!echo 'Hello from command!'"
   ]
  }
 ],
 "metadata": {},
 "nbformat": 4,
 "nbformat_minor": 5
}
