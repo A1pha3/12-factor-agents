{
 "cells": [
  {
   "cell_type": "markdown",
   "metadata": {},
   "source": [
    "# Minimal BAML Output Test\n",
    "\n",
    "This notebook tests different methods of capturing BAML output."
   ]
  },
  {
   "cell_type": "code",
   "execution_count": null,
   "metadata": {},
   "outputs": [],
   "source": [
    "!pip install baml-py==0.202.0 pydantic"
   ]
  },
  {
   "cell_type": "code",
   "execution_count": null,
   "metadata": {},
   "outputs": [],
   "source": [
    "import subprocess\n",
    "import os\n",
    "import sys\n",
    "\n",
    "def baml_generate():\n",
    "    result = subprocess.run(\n",
    "        [\"baml-cli\", \"generate\"],\n",
    "        check=True,\n",
    "        capture_output=True,\n",
    "        text=True\n",
    "    )\n",
    "    if result.stdout:\n",
    "        print(\"[baml-cli generate]\\n\", result.stdout)\n",
    "    if result.stderr:\n",
    "        print(\"[baml-cli generate]\\n\", result.stderr)\n",
    "\n",
    "def get_baml_client():\n",
    "    # Set API key\n",
    "    if 'OPENAI_API_KEY' not in os.environ:\n",
    "        print(\"Warning: OPENAI_API_KEY not set\")\n",
    "    \n",
    "    baml_generate()\n",
    "    \n",
    "    # Force delete all baml_client modules from sys.modules\n",
    "    modules_to_delete = [key for key in sys.modules.keys() if key.startswith('baml_client')]\n",
    "    for module in modules_to_delete:\n",
    "        del sys.modules[module]\n",
    "    \n",
    "    # Now import fresh\n",
    "    import baml_client\n",
    "    return baml_client.sync_client.b"
   ]
  },
  {
   "cell_type": "code",
   "execution_count": null,
   "metadata": {},
   "outputs": [],
   "source": [
    "!baml-cli init"
   ]
  },
  {
   "cell_type": "code",
   "execution_count": null,
   "metadata": {},
   "outputs": [],
   "source": [
    "# Create a simple BAML function\n",
    "baml_content = '''function DemoFunction {\n",
    "  input: string\n",
    "  output: string\n",
    "}\n",
    "\n",
    "impl<llm, DemoFunction> DemoFunctionImpl {\n",
    "  prompt #\"\n",
    "    Say hello to {{input}}\n",
    "  \"#\n",
    "}\n",
    "\n",
    "client<llm> MyClient {\n",
    "  provider openai\n",
    "  options {\n",
    "    model \"gpt-4o-mini\"\n",
    "  }\n",
    "}\n",
    "'''\n",
    "\n",
    "with open('baml_src/demo.baml', 'w') as f:\n",
    "    f.write(baml_content)\n",
    "\n",
    "print(\"Created demo.baml\")"
   ]
  },
  {
   "cell_type": "markdown",
   "metadata": {},
   "source": [
    "## Method 1: Direct Execution (Default)"
   ]
  },
  {
   "cell_type": "code",
   "execution_count": null,
   "metadata": {},
   "outputs": [],
   "source": [
    "# Direct execution - BAML logs go to stderr\n",
    "os.environ['BAML_LOG'] = 'info'\n",
    "b = get_baml_client()\n",
    "result = b.DemoFunction(\"World\")\n",
    "print(f\"Result: {result}\")"
   ]
  },
  {
   "cell_type": "markdown",
   "metadata": {},
   "source": [
    "## Method 2: Capture with IPython"
   ]
  },
  {
   "cell_type": "code",
   "execution_count": null,
   "metadata": {},
   "outputs": [],
   "source": [
    "from IPython.utils.capture import capture_output\n",
    "\n",
    "os.environ['BAML_LOG'] = 'info'\n",
    "print(\"Capturing output with IPython...\")\n",
    "\n",
    "with capture_output() as captured:\n",
    "    b = get_baml_client()\n",
    "    result = b.DemoFunction(\"IPython\")\n",
    "\n",
    "print(f\"Result: {result}\")\n",
    "print(\"\\n=== Captured stdout ===\")\n",
    "print(captured.stdout)\n",
    "print(\"\\n=== Captured stderr (BAML logs) ===\")\n",
    "print(captured.stderr)"
   ]
  },
  {
   "cell_type": "markdown",
   "metadata": {},
   "source": [
    "## Method 3: Redirect stderr to stdout"
   ]
  },
  {
   "cell_type": "code",
   "execution_count": null,
   "metadata": {},
   "outputs": [],
   "source": [
    "import contextlib\n",
    "\n",
    "@contextlib.contextmanager\n",
    "def redirect_stderr_to_stdout():\n",
    "    old_stderr = sys.stderr\n",
    "    sys.stderr = sys.stdout\n",
    "    try:\n",
    "        yield\n",
    "    finally:\n",
    "        sys.stderr = old_stderr\n",
    "\n",
    "os.environ['BAML_LOG'] = 'info'\n",
    "print(\"Redirecting stderr to stdout...\")\n",
    "\n",
    "with redirect_stderr_to_stdout():\n",
    "    b = get_baml_client()\n",
    "    result = b.DemoFunction(\"Redirect\")\n",
    "\n",
    "print(f\"\\nResult: {result}\")"
   ]
  },
  {
   "cell_type": "markdown",
   "metadata": {},
   "source": [
    "## Method 4: Cell Magic %%capture"
   ]
  },
  {
   "cell_type": "code",
   "execution_count": null,
   "metadata": {},
   "outputs": [],
   "source": [
    "%%capture captured_output\n",
    "os.environ['BAML_LOG'] = 'info'\n",
    "b = get_baml_client()\n",
    "result = b.DemoFunction(\"Cell Magic\")\n",
    "print(f\"Result: {result}\")"
   ]
  },
  {
   "cell_type": "code",
   "execution_count": null,
   "metadata": {},
   "outputs": [],
   "source": [
    "# Display captured output\n",
    "print(\"=== Captured stdout ===\")\n",
    "print(captured_output.stdout)\n",
    "print(\"\\n=== Captured stderr (BAML logs) ===\")\n",
    "print(captured_output.stderr)"
   ]
  },
  {
   "cell_type": "markdown",
   "metadata": {},
   "source": [
    "## Method 5: Subprocess with combined output"
   ]
  },
  {
   "cell_type": "code",
   "execution_count": null,
   "metadata": {},
   "outputs": [],
   "source": [
    "# Create a Python script that runs BAML\n",
    "script_content = '''import os\n",
    "os.environ['BAML_LOG'] = 'info'\n",
    "os.environ['OPENAI_API_KEY'] = os.environ.get('OPENAI_API_KEY', '')\n",
    "\n",
    "import baml_client\n",
    "b = baml_client.sync_client.b\n",
    "result = b.DemoFunction(\"Subprocess\")\n",
    "print(f\"Result: {result}\")\n",
    "'''\n",
    "\n",
    "with open('test_baml_script.py', 'w') as f:\n",
    "    f.write(script_content)\n",
    "\n",
    "# Run as subprocess with combined output\n",
    "result = subprocess.run(\n",
    "    [sys.executable, 'test_baml_script.py'],\n",
    "    capture_output=True,\n",
    "    text=True,\n",
    "    stderr=subprocess.STDOUT  # Combine stderr into stdout\n",
    ")\n",
    "\n",
    "print(\"=== Combined output ===\")\n",
    "print(result.stdout)\n",
    "\n",
    "# Clean up\n",
    "os.remove('test_baml_script.py')"
   ]
  }
 ],
 "metadata": {
  "kernelspec": {
   "display_name": "Python 3",
   "language": "python",
   "name": "python3"
  },
  "language_info": {
   "codemirror_mode": {
    "name": "ipython",
    "version": 3
   },
   "file_extension": ".py",
   "mimetype": "text/x-python",
   "name": "python",
   "nbconvert_exporter": "python",
   "pygments_lexer": "ipython3",
   "version": "3.9.0"
  }
 },
 "nbformat": 4,
 "nbformat_minor": 4
}