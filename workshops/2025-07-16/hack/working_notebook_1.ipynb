{
  "cells": [
    {
      "cell_type": "markdown",
      "id": "37c4763c",
      "metadata": {
        "id": "37c4763c"
      },
      "source": [
        "# Workshop Notebook - July 16, 2025\n",
        "\n",
        "Welcome to today's workshop! This notebook contains some basic examples to get started.\n",
        "\n",
        "## Overview\n",
        "- Basic Python operations\n",
        "- Simple calculations\n",
        "- String manipulation"
      ]
    },
    {
      "cell_type": "code",
      "source": [
        "def get_baml_client():\n",
        "  \"\"\"\n",
        "  a bunch of fun jank to work around the google colab import cache\n",
        "  \"\"\"\n",
        "\n",
        "  from google.colab import userdata\n",
        "  import os\n",
        "  os.environ['OPENAI_API_KEY'] = userdata.get('OPENAI_API_KEY')\n",
        "\n",
        "  import importlib\n",
        "  import baml_client\n",
        "  importlib.reload(baml_client)\n",
        "  return baml_client.sync_client.b\n",
        "\n"
      ],
      "metadata": {
        "id": "Wu1JAPuEv4AH"
      },
      "id": "Wu1JAPuEv4AH",
      "execution_count": 8,
      "outputs": []
    },
    {
      "cell_type": "code",
      "execution_count": 1,
      "id": "57d39979",
      "metadata": {
        "colab": {
          "base_uri": "https://localhost:8080/"
        },
        "id": "57d39979",
        "outputId": "5d8ed700-6f7f-42b0-bc09-49b84f1fca9f"
      },
      "outputs": [
        {
          "output_type": "stream",
          "name": "stdout",
          "text": [
            "Requirement already satisfied: baml-py in /usr/local/lib/python3.11/dist-packages (0.201.0)\n"
          ]
        }
      ],
      "source": [
        "!pip install baml-py\n"
      ]
    },
    {
      "cell_type": "code",
      "source": [
        "!baml-cli init\n"
      ],
      "metadata": {
        "id": "RKpwjadRtQ4E"
      },
      "id": "RKpwjadRtQ4E",
      "execution_count": 2,
      "outputs": []
    },
    {
      "cell_type": "code",
      "source": [
        "!baml-cli generate"
      ],
      "metadata": {
        "colab": {
          "base_uri": "https://localhost:8080/"
        },
        "id": "uKU4rfG0tVuQ",
        "outputId": "478ce0f8-41b5-4f69-e88a-491a769a3ce2"
      },
      "id": "uKU4rfG0tVuQ",
      "execution_count": 3,
      "outputs": [
        {
          "output_type": "stream",
          "name": "stdout",
          "text": [
            "2025-07-16T01:14:07.315 [BAML \u001b[92mINFO\u001b[0m] Wrote 13 files to baml_client\n",
            "2025-07-16T01:14:07.315 [BAML \u001b[92mINFO\u001b[0m] Generated 1 baml_client: ../baml_client\n"
          ]
        }
      ]
    },
    {
      "cell_type": "code",
      "source": [
        "!baml-cli test"
      ],
      "metadata": {
        "colab": {
          "base_uri": "https://localhost:8080/"
        },
        "id": "rsLwuS_cuUyO",
        "outputId": "de29b395-b0a8-4e37-bd2e-76ab34f522eb"
      },
      "id": "rsLwuS_cuUyO",
      "execution_count": 6,
      "outputs": [
        {
          "output_type": "stream",
          "name": "stdout",
          "text": [
            "Summary: 0 failures, 0 passes, 0 running, 0 pending, 0 done                     \r\u001b[2KSummary: 0/2 tests                                                              \r\u001b[2KSummary: 0/2 tests                                                              \r\u001b[2KSummary: 0/2 tests \n",
            "\u001b[32m⠁\u001b[0m Running DetermineNextStep::HelloWorld                                         \u001b[1A\r\u001b[2K\u001b[1B\r\u001b[2K\u001b[1ASummary: 0/2 tests \n",
            "\u001b[32m⠁\u001b[0m Running DetermineNextStep::HelloWorld                                         \u001b[1A\r\u001b[2K\u001b[1B\r\u001b[2K\u001b[1ASummary: 0/2 tests \n",
            "\u001b[32m⠁\u001b[0m Running DetermineNextStep::HelloWorld                                         \u001b[1A\r\u001b[2K\u001b[1B\r\u001b[2K\u001b[1ASummary: 0/2 tests \n",
            "\u001b[32m⠁\u001b[0m Running DetermineNextStep::HelloWorld\n",
            "\u001b[32m⠁\u001b[0m Running ExtractResume::vaibhav_resume                                         \u001b[2A\r\u001b[2K\u001b[1B\r\u001b[2K\u001b[1B\r\u001b[2K\u001b[2ASummary: 0/2 tests \n",
            "\u001b[32m⠁\u001b[0m Running DetermineNextStep::HelloWorld\n",
            "\u001b[32m⠁\u001b[0m Running ExtractResume::vaibhav_resume                                         \u001b[2A\r\u001b[2K\u001b[1B\r\u001b[2K\u001b[1B\r\u001b[2K\u001b[2ASummary: 0/2 tests \n",
            "\u001b[32m⠁\u001b[0m Running DetermineNextStep::HelloWorld\n",
            "\u001b[32m⠁\u001b[0m Running ExtractResume::vaibhav_resume                                         2025-07-16T01:14:25.520 [BAML \u001b[33mWARN\u001b[0m] \u001b[35mFunction DetermineNextStep\u001b[0m:\n",
            "    \u001b[33mClient: Qwen3 (<unknown>) - 0ms\u001b[0m\n",
            "    \u001b[34m---PROMPT---\u001b[0m\n",
            "    \u001b[2m\u001b[43msystem: \u001b[0m\u001b[2m/nothink \n",
            "    \n",
            "    You are a helpful assistant that can help with tasks.\n",
            "    \u001b[43muser: \u001b[0m\u001b[2mYou are working on the following thread:\n",
            "    \n",
            "    {\n",
            "      \"type\": \"user_input\",\n",
            "      \"data\": \"hello!\"\n",
            "    }\n",
            "    \n",
            "    What should the next step be?\n",
            "    \n",
            "    Answer in JSON using this schema:\n",
            "    {\n",
            "      intent: \"done_for_now\",\n",
            "      message: string,\n",
            "    }\n",
            "    \u001b[0m\n",
            "    \u001b[34m---REQUEST OPTIONS---\u001b[0m\n",
            "    \u001b[31m---ERROR (Unspecified error code: 2)---\u001b[0m\n",
            "    \u001b[31mFailed to build request: reqwest::Error {\n",
            "        kind: Builder,\n",
            "        source: RelativeUrlWithoutBase,\n",
            "    }\u001b[0m\n",
            "\u001b[2A\r\u001b[2K\u001b[1B\r\u001b[2K\u001b[1B\r\u001b[2K\u001b[2ASummary: 1/2 tests - 1 🛑\n",
            "\u001b[32m⠁\u001b[0m Running DetermineNextStep::HelloWorld\n",
            "\u001b[32m⠁\u001b[0m Running ExtractResume::vaibhav_resume                                         \u001b[2A\r\u001b[2K\u001b[1B\r\u001b[2K\u001b[1B\r\u001b[2K\u001b[2ASummary: 1/2 tests - 1 🛑\n",
            "\u001b[32m⠁\u001b[0m Running DetermineNextStep::HelloWorld\n",
            "\u001b[32m⠁\u001b[0m Running ExtractResume::vaibhav_resume                                         \u001b[2A\r\u001b[2K\u001b[1B\r\u001b[2K\u001b[1B\r\u001b[2K\u001b[2ASummary: 1/2 tests - 1 🛑\n",
            "\u001b[32m⠁\u001b[0m Running ExtractResume::vaibhav_resume                                         \u001b[1A\r\u001b[2K\u001b[1B\r\u001b[2K\u001b[1A0.04s \u001b[91mERROR     \u001b[0m   DetermineNextStep::HelloWorld\n",
            "  \u001b[2;31mUnspecified error code: 2 Failed to build request: reqwest::Error {\u001b[0m\n",
            "  \u001b[2;31m    kind: Builder,\u001b[0m\n",
            "  \u001b[2;31m    source: RelativeUrlWithoutBase,\u001b[0m\n",
            "  \u001b[2;31m}\u001b[0m\n",
            "  \u001b[2;31m\u001b[0m\n",
            "  \u001b[2;31mRequest options: {}\u001b[0m\n",
            "Summary: 1/2 tests - 1 🛑\n",
            "\u001b[2K\u001b[1ASummary: 1/2 tests - 1 🛑\n",
            "\u001b[2K\u001b[1ASummary: 1/2 tests - 1 🛑\n",
            "\u001b[2K\u001b[1ASummary: 1/2 tests - 1 🛑\n",
            "\u001b[2K\u001b[1ASummary: 1/2 tests - 1 🛑\n",
            "\u001b[2K\u001b[1ASummary: 1/2 tests - 1 🛑\n",
            "\u001b[2K\u001b[1ASummary: 1/2 tests - 1 🛑\n",
            "\u001b[2K\u001b[1ASummary: 1/2 tests - 1 🛑\n",
            "\u001b[2K\u001b[1ASummary: 1/2 tests - 1 🛑\n",
            "\u001b[2K\u001b[1ASummary: 1/2 tests - 1 🛑\n",
            "\u001b[2K\u001b[1ASummary: 1/2 tests - 1 🛑\n",
            "\u001b[32m⠤\u001b[0m Running ExtractResume::vaibhav_resume                                         2025-07-16T01:14:26.555 [BAML \u001b[92mINFO\u001b[0m] \u001b[35mFunction ExtractResume\u001b[0m:\n",
            "    \u001b[33mClient: openai/gpt-4o (gpt-4o-2024-08-06) - 1038ms. StopReason: stop. Tokens(in/out): 81/68\u001b[0m\n",
            "    \u001b[34m---PROMPT---\u001b[0m\n",
            "    \u001b[2m\u001b[43msystem: \u001b[0m\u001b[2mExtract from this content:\n",
            "    Vaibhav Gupta\n",
            "    vbv@boundaryml.com\n",
            "    \n",
            "    Experience:\n",
            "    - Founder at BoundaryML\n",
            "    - CV Engineer at Google\n",
            "    - CV Engineer at Microsoft\n",
            "    \n",
            "    Skills:\n",
            "    - Rust\n",
            "    - C++\n",
            "    \n",
            "    Answer in JSON using this schema:\n",
            "    {\n",
            "      name: string,\n",
            "      email: string,\n",
            "      experience: string[],\n",
            "      skills: string[],\n",
            "    }\n",
            "    \u001b[0m\n",
            "    \u001b[34m---LLM REPLY---\u001b[0m\n",
            "    \u001b[2m{\n",
            "      \"name\": \"Vaibhav Gupta\",\n",
            "      \"email\": \"vbv@boundaryml.com\",\n",
            "      \"experience\": [\n",
            "        \"Founder at BoundaryML\",\n",
            "        \"CV Engineer at Google\",\n",
            "        \"CV Engineer at Microsoft\"\n",
            "      ],\n",
            "      \"skills\": [\n",
            "        \"Rust\",\n",
            "        \"C++\"\n",
            "      ]\n",
            "    }\u001b[0m\n",
            "    \u001b[34m---Parsed Response (class Resume)---\u001b[0m\n",
            "    {\n",
            "      \"name\": \"Vaibhav Gupta\",\n",
            "      \"email\": \"vbv@boundaryml.com\",\n",
            "      \"experience\": [\n",
            "        \"Founder at BoundaryML\",\n",
            "        \"CV Engineer at Google\",\n",
            "        \"CV Engineer at Microsoft\"\n",
            "      ],\n",
            "      \"skills\": [\n",
            "        \"Rust\",\n",
            "        \"C++\"\n",
            "      ]\n",
            "    }\n",
            "\u001b[2K\u001b[1ASummary: 2/2 tests - 1 ✅, 1 🛑\n",
            "\u001b[2K\n",
            "INFO: Test results:\n",
            "---------------------------------------------------------\n",
            "\u001b[1;34mfunction\u001b[0m \u001b[1;34mDetermineNextStep\u001b[0m\n",
            "1 tests (1 🛑)\n",
            "  0.04s \u001b[91mERROR     \u001b[0m   DetermineNextStep::HelloWorld\n",
            "    \u001b[2m ./baml_src/agent.baml:40\u001b[0m\n",
            "    \u001b[2;31mUnspecified error code: 2 Failed to build request: reqwest::Error {\u001b[0m\n",
            "    \u001b[2;31m    kind: Builder,\u001b[0m\n",
            "    \u001b[2;31m    source: RelativeUrlWithoutBase,\u001b[0m\n",
            "    \u001b[2;31m}\u001b[0m\n",
            "    \u001b[2;31m\u001b[0m\n",
            "    \u001b[2;31mRequest options: {}\u001b[0m\n",
            "\u001b[1;34mfunction\u001b[0m \u001b[1;34mExtractResume\u001b[0m\n",
            "1 tests (1 ✅)\n",
            "  1.08s \u001b[32mPASSED    \u001b[0m   ExtractResume::vaibhav_resume\n",
            "    \u001b[2m ./baml_src/resume.baml:25\u001b[0m\n",
            "---------------------------------------------------------\n",
            "INFO: Test run completed, 2 tests (1 ✅, 1 🛑)\n",
            "\n"
          ]
        }
      ]
    },
    {
      "cell_type": "code",
      "source": [
        "!rm baml_src/resume.baml"
      ],
      "metadata": {
        "id": "eJgErOv8zCR1"
      },
      "id": "eJgErOv8zCR1",
      "execution_count": 7,
      "outputs": []
    },
    {
      "cell_type": "markdown",
      "source": [
        "now lets download the agent"
      ],
      "metadata": {
        "id": "MVqkHHOFzFNz"
      },
      "id": "MVqkHHOFzFNz"
    },
    {
      "cell_type": "code",
      "source": [
        "!curl -fsSL -o baml_src/agent.baml https://raw.githubusercontent.com/humanlayer/12-factor-agents/refs/heads/main/workshops/2025-07-16/walkthrough/01-agent.baml && cat baml_src/agent.baml"
      ],
      "metadata": {
        "colab": {
          "base_uri": "https://localhost:8080/"
        },
        "id": "wV0WipZytZNt",
        "outputId": "1adecefd-2c8f-441f-da9a-84e975eebef6"
      },
      "id": "wV0WipZytZNt",
      "execution_count": 13,
      "outputs": [
        {
          "output_type": "stream",
          "name": "stdout",
          "text": [
            "class DoneForNow {\n",
            "  intent \"done_for_now\"\n",
            "  message string \n",
            "}\n",
            "\n",
            "function DetermineNextStep(\n",
            "    thread: string \n",
            ") -> DoneForNow {\n",
            "    client \"openai/gpt-4o\"\n",
            "\n",
            "    // use /nothink for now because the thinking tokens (or streaming thereof) screw with baml (i think (no pun intended))\n",
            "    prompt #\"\n",
            "        {{ _.role(\"system\") }}\n",
            "\n",
            "        You are a helpful assistant that can help with tasks.\n",
            "\n",
            "        {{ _.role(\"user\") }}\n",
            "\n",
            "        You are working on the following thread:\n",
            "\n",
            "        {{ thread }}\n",
            "\n",
            "        What should the next step be?\n",
            "\n",
            "        {{ ctx.output_format }}\n",
            "    \"#\n",
            "}\n",
            "\n",
            "test HelloWorld {\n",
            "  functions [DetermineNextStep]\n",
            "  args {\n",
            "    thread #\"\n",
            "      {\n",
            "        \"type\": \"user_input\",\n",
            "        \"data\": \"hello!\"\n",
            "      }\n",
            "    \"#\n",
            "  }\n",
            "}"
          ]
        }
      ]
    },
    {
      "cell_type": "code",
      "source": [
        "!baml-cli generate"
      ],
      "metadata": {
        "colab": {
          "base_uri": "https://localhost:8080/"
        },
        "id": "JAfVRgy3wK4v",
        "outputId": "d87fc300-cc8f-43ad-fa95-ab194db365a0"
      },
      "id": "JAfVRgy3wK4v",
      "execution_count": 14,
      "outputs": [
        {
          "output_type": "stream",
          "name": "stdout",
          "text": [
            "2025-07-16T01:22:21.660 [BAML \u001b[92mINFO\u001b[0m] Wrote 13 files to baml_client\n",
            "2025-07-16T01:22:21.660 [BAML \u001b[92mINFO\u001b[0m] Generated 1 baml_client: ../baml_client\n"
          ]
        }
      ]
    },
    {
      "cell_type": "code",
      "source": [
        "b = get_baml_client()\n",
        "\n",
        "step = b.DetermineNextStep(\"hi\")\n",
        "print(step)"
      ],
      "metadata": {
        "colab": {
          "base_uri": "https://localhost:8080/"
        },
        "id": "gyIrbt-ZuXrK",
        "outputId": "28a83364-248f-4c36-afb3-faaf271aa485"
      },
      "id": "gyIrbt-ZuXrK",
      "execution_count": 9,
      "outputs": [
        {
          "output_type": "stream",
          "name": "stdout",
          "text": [
            "intent='done_for_now' message='Hello! Please let me know if there is anything specific you need assistance with.'\n"
          ]
        }
      ]
    }
  ],
  "metadata": {
    "colab": {
      "provenance": []
    },
    "language_info": {
      "name": "python"
    },
    "kernelspec": {
      "name": "python3",
      "display_name": "Python 3"
    }
  },
  "nbformat": 4,
  "nbformat_minor": 5
}