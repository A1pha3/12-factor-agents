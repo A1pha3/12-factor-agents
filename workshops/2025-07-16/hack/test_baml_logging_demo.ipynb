{
 "cells": [
  {
   "cell_type": "markdown",
   "metadata": {},
   "source": [
    "# BAML Logging Demo - Testing Log Capture in Notebooks\n",
    "\n",
    "This notebook demonstrates how BAML output is captured in Jupyter notebooks."
   ]
  },
  {
   "cell_type": "code",
   "execution_count": null,
   "metadata": {},
   "outputs": [],
   "source": [
    "!pip install baml-py==0.202.0 pydantic"
   ]
  },
  {
   "cell_type": "code",
   "execution_count": null,
   "metadata": {},
   "outputs": [],
   "source": [
    "import subprocess\n",
    "import os\n",
    "import sys\n",
    "from IPython.utils.capture import capture_output\n",
    "\n",
    "# Set up environment\n",
    "if 'OPENAI_API_KEY' not in os.environ:\n",
    "    print(\"Warning: OPENAI_API_KEY not set\")\n",
    "\n",
    "# Set BAML logging\n",
    "os.environ['BAML_LOG'] = 'info'\n",
    "\n",
    "def baml_generate():\n",
    "    try:\n",
    "        result = subprocess.run(\n",
    "            [\"baml-cli\", \"generate\"],\n",
    "            check=True,\n",
    "            capture_output=True,\n",
    "            text=True\n",
    "        )\n",
    "        if result.stdout:\n",
    "            print(\"[baml-cli generate]\\n\", result.stdout)\n",
    "        if result.stderr:\n",
    "            print(\"[baml-cli generate stderr]\\n\", result.stderr)\n",
    "    except subprocess.CalledProcessError as e:\n",
    "        print(f\"baml-cli generate failed: {e}\")\n",
    "        raise\n",
    "\n",
    "def get_baml_client():\n",
    "    baml_generate()\n",
    "    import sys\n",
    "    modules_to_delete = [key for key in sys.modules.keys() if key.startswith('baml_client')]\n",
    "    for module in modules_to_delete:\n",
    "        del sys.modules[module]\n",
    "    import baml_client\n",
    "    return baml_client.sync_client.b"
   ]
  },
  {
   "cell_type": "code",
   "execution_count": null,
   "metadata": {},
   "outputs": [],
   "source": [
    "# Initialize BAML\n",
    "!baml-cli init"
   ]
  },
  {
   "cell_type": "code",
   "execution_count": null,
   "metadata": {},
   "outputs": [],
   "source": [
    "# Create a simple BAML file\n",
    "baml_content = '''class DoneForNow {\n",
    "  intent \"done_for_now\"\n",
    "  message string\n",
    "}\n",
    "\n",
    "function DetermineNextStep(thread string) -> DoneForNow {\n",
    "  client OpenAI/gpt-4o-mini\n",
    "  prompt #\"\n",
    "    Given the conversation thread, determine the next step.\n",
    "    \n",
    "    Thread:\n",
    "    {{ thread }}\n",
    "    \n",
    "    Respond with a message.\n",
    "  \"#\n",
    "}\n",
    "'''\n",
    "\n",
    "with open('baml_src/agent.baml', 'w') as f:\n",
    "    f.write(baml_content)\n",
    "    \n",
    "print(\"Created agent.baml\")"
   ]
  },
  {
   "cell_type": "code",
   "execution_count": null,
   "metadata": {},
   "outputs": [],
   "source": [
    "# Helper function to capture BAML logs\n",
    "def run_with_baml_logs(func, *args, **kwargs):\n",
    "    \"\"\"Run a function and capture BAML logs in the notebook output.\"\"\"\n",
    "    print(f\"Running with BAML_LOG={os.environ.get('BAML_LOG')}...\")\n",
    "    \n",
    "    # Capture both stdout and stderr\n",
    "    with capture_output() as captured:\n",
    "        result = func(*args, **kwargs)\n",
    "    \n",
    "    # Display the result first\n",
    "    if result is not None:\n",
    "        print(\"=== Result ===\")\n",
    "        print(result)\n",
    "    \n",
    "    # Display captured stdout if any\n",
    "    if captured.stdout:\n",
    "        print(\"\\n=== Stdout ===\")\n",
    "        print(captured.stdout)\n",
    "    \n",
    "    # Display BAML logs from stderr\n",
    "    if captured.stderr:\n",
    "        print(\"\\n=== BAML Logs (from stderr) ===\")\n",
    "        print(captured.stderr)\n",
    "    \n",
    "    return result"
   ]
  },
  {
   "cell_type": "code",
   "execution_count": null,
   "metadata": {},
   "outputs": [],
   "source": [
    "# Test function that uses BAML\n",
    "def test_baml_call():\n",
    "    b = get_baml_client()\n",
    "    thread = '[{\"type\": \"user_input\", \"data\": \"Hello, how are you?\"}]'\n",
    "    result = b.DetermineNextStep(thread)\n",
    "    return result"
   ]
  },
  {
   "cell_type": "code",
   "execution_count": null,
   "metadata": {},
   "outputs": [],
   "source": [
    "# Run without log capture\n",
    "print(\"=== Running WITHOUT log capture ===\")\n",
    "result1 = test_baml_call()\n",
    "print(f\"Result: {result1}\")"
   ]
  },
  {
   "cell_type": "code",
   "execution_count": null,
   "metadata": {},
   "outputs": [],
   "source": [
    "# Run WITH log capture\n",
    "print(\"=== Running WITH log capture ===\")\n",
    "result2 = run_with_baml_logs(test_baml_call)"
   ]
  },
  {
   "cell_type": "code",
   "execution_count": null,
   "metadata": {},
   "outputs": [],
   "source": [
    "# Test with different log levels\n",
    "print(\"\\n=== Testing with DEBUG log level ===\")\n",
    "os.environ['BAML_LOG'] = 'debug'\n",
    "result3 = run_with_baml_logs(test_baml_call)"
   ]
  },
  {
   "cell_type": "markdown",
   "metadata": {},
   "source": [
    "## Summary\n",
    "\n",
    "This notebook demonstrates:\n",
    "1. BAML logs are written to stderr by default\n",
    "2. Using `capture_output()` from IPython can capture these logs\n",
    "3. The `run_with_baml_logs()` helper function makes it easy to see BAML logs in notebooks\n",
    "4. Different log levels (info, debug) show different amounts of detail"
   ]
  }
 ],
 "metadata": {
  "kernelspec": {
   "display_name": "Python 3",
   "language": "python",
   "name": "python3"
  },
  "language_info": {
   "name": "python",
   "version": "3.11.0"
  }
 },
 "nbformat": 4,
 "nbformat_minor": 2
}