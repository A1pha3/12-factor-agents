{
 "cells": [
  {
   "cell_type": "markdown",
   "id": "a1f8090b",
   "metadata": {},
   "source": [
    "# Workshop Notebook - July 16, 2025\n",
    "\n",
    "Welcome to today's workshop! This notebook contains some basic examples to get started.\n",
    "\n",
    "## Overview\n",
    "- Basic Python operations\n",
    "- Simple calculations\n",
    "- String manipulation"
   ]
  },
  {
   "cell_type": "code",
   "execution_count": null,
   "id": "91427574",
   "metadata": {},
   "outputs": [],
   "source": [
    "# Classic Hello World\n",
    "print(\"Hello, World!\")\n",
    "print(\"Welcome to the workshop!\")"
   ]
  },
  {
   "cell_type": "markdown",
   "id": "65d3884e",
   "metadata": {},
   "source": [
    "## Basic Mathematics\n",
    "\n",
    "Let's perform some simple calculations:"
   ]
  },
  {
   "cell_type": "code",
   "execution_count": null,
   "id": "75db09d8",
   "metadata": {},
   "outputs": [],
   "source": [
    "# Basic arithmetic operations\n",
    "a = 42\n",
    "b = 17\n",
    "c = a + b\n",
    "\n",
    "print(f\"{a} + {b} = {c}\")\n",
    "print(f\"{a} - {b} = {a - b}\")\n",
    "print(f\"{a} * {b} = {a * b}\")\n",
    "print(f\"{a} / {b} = {a / b:.2f}\")"
   ]
  },
  {
   "cell_type": "markdown",
   "id": "59fef134",
   "metadata": {},
   "source": [
    "## Working with Lists\n",
    "\n",
    "Python lists are versatile data structures:"
   ]
  },
  {
   "cell_type": "code",
   "execution_count": null,
   "id": "74c3aa8e",
   "metadata": {},
   "outputs": [],
   "source": [
    "# Working with lists\n",
    "numbers = [1, 2, 3, 4, 5]\n",
    "print(\"Original list:\", numbers)\n",
    "\n",
    "# Add more numbers\n",
    "numbers.extend([6, 7, 8, 9, 10])\n",
    "print(\"Extended list:\", numbers)\n",
    "\n",
    "# Calculate sum and average\n",
    "total = sum(numbers)\n",
    "average = total / len(numbers)\n",
    "\n",
    "print(f\"Sum: {total}\")\n",
    "print(f\"Average: {average}\")\n",
    "print(f\"Max: {max(numbers)}\")\n",
    "print(f\"Min: {min(numbers)}\")"
   ]
  },
  {
   "cell_type": "markdown",
   "id": "fb1c8321",
   "metadata": {},
   "source": [
    "## Creating Functions\n",
    "\n",
    "Let's define some simple functions:"
   ]
  },
  {
   "cell_type": "code",
   "execution_count": null,
   "id": "5dbca9d2",
   "metadata": {},
   "outputs": [],
   "source": [
    "# Define a simple function\n",
    "def greet(name):\n",
    "    return f\"Hello, {name}! Welcome to the workshop.\"\n",
    "\n",
    "def calculate_area(length, width):\n",
    "    return length * width\n",
    "\n",
    "# Use the functions\n",
    "print(greet(\"Python Developer\"))\n",
    "print(f\"Area of a 5x3 rectangle: {calculate_area(5, 3)} square units\")"
   ]
  },
  {
   "cell_type": "markdown",
   "id": "85159b95",
   "metadata": {},
   "source": [
    "## Next Steps\n",
    "\n",
    "Feel free to add your own cells below and experiment with Python!\n",
    "\n",
    "Some ideas to try:\n",
    "- Create a function that calculates fibonacci numbers\n",
    "- Work with dictionaries\n",
    "- Try list comprehensions\n",
    "- Import and use external libraries"
   ]
  },
  {
   "cell_type": "code",
   "execution_count": null,
   "id": "e303725f",
   "metadata": {},
   "outputs": [],
   "source": [
    "# Your code here\n"
   ]
  }
 ],
 "metadata": {},
 "nbformat": 4,
 "nbformat_minor": 5
}
