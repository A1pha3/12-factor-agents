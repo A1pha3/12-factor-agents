{
  "cells": [
    {
      "cell_type": "markdown",
      "metadata": {},
      "source": [
        "# Testing BAML Logging in Jupyter\n",
        "\n",
        "This notebook demonstrates how to capture BAML logs in Jupyter notebook output."
      ]
    },
    {
      "cell_type": "code",
      "execution_count": null,
      "metadata": {},
      "outputs": [],
      "source": [
        "# First, set up the environment\n",
        "import os\n",
        "import sys\n",
        "import subprocess\n",
        "import logging\n",
        "\n",
        "# Set BAML_LOG environment variable\n",
        "os.environ['BAML_LOG'] = 'info'\n",
        "print(f\"BAML_LOG is set to: {os.environ['BAML_LOG']}\")"
      ]
    },
    {
      "cell_type": "code",
      "execution_count": null,
      "metadata": {},
      "outputs": [],
      "source": [
        "# Method 1: Configure Python logging to capture subprocess output\n",
        "import logging\n",
        "\n",
        "# Configure logging for Jupyter - force reconfiguration\n",
        "logging.basicConfig(\n",
        "    level=logging.INFO,\n",
        "    format='%(asctime)s - %(name)s - %(levelname)s - %(message)s',\n",
        "    force=True,  # This forces reconfiguration in Jupyter\n",
        "    handlers=[\n",
        "        logging.StreamHandler(sys.stdout)  # Output to stdout instead of stderr\n",
        "    ]\n",
        ")\n",
        "\n",
        "# Get logger for BAML\n",
        "logger = logging.getLogger('baml')\n",
        "logger.setLevel(logging.DEBUG)"
      ]
    },
    {
      "cell_type": "code",
      "execution_count": null,
      "metadata": {},
      "outputs": [],
      "source": [
        "# Method 2: Monkey-patch print to capture BAML output\n",
        "import builtins\n",
        "from datetime import datetime\n",
        "\n",
        "# Store original print function\n",
        "_original_print = builtins.print\n",
        "\n",
        "def patched_print(*args, **kwargs):\n",
        "    \"\"\"Patched print function that adds timestamp and formatting.\"\"\"\n",
        "    # Check if this is a BAML log message\n",
        "    message = ' '.join(str(arg) for arg in args)\n",
        "    if '[baml' in message.lower() or 'baml' in message.lower():\n",
        "        timestamp = datetime.now().strftime('%Y-%m-%d %H:%M:%S')\n",
        "        _original_print(f\"[{timestamp}] BAML LOG: {message}\", **kwargs)\n",
        "    else:\n",
        "        _original_print(*args, **kwargs)\n",
        "\n",
        "# Apply the patch\n",
        "builtins.print = patched_print"
      ]
    },
    {
      "cell_type": "code",
      "execution_count": null,
      "metadata": {},
      "outputs": [],
      "source": [
        "# Method 3: Use IPython's capture magic\n",
        "from IPython.utils.capture import capture_output\n",
        "\n",
        "def run_with_capture(func, *args, **kwargs):\n",
        "    \"\"\"Run a function and capture all its output.\"\"\"\n",
        "    with capture_output() as captured:\n",
        "        result = func(*args, **kwargs)\n",
        "    \n",
        "    # Display captured output\n",
        "    if captured.stdout:\n",
        "        print(\"=== Standard Output ===\")\n",
        "        print(captured.stdout)\n",
        "    \n",
        "    if captured.stderr:\n",
        "        print(\"\\n=== Error/Log Output ===\")\n",
        "        print(captured.stderr)\n",
        "    \n",
        "    # Also display using IPython's display\n",
        "    from IPython.display import display, HTML\n",
        "    if captured.stderr:\n",
        "        display(HTML(f\"<pre style='background-color: #f0f0f0; padding: 10px;'>{captured.stderr}</pre>\"))\n",
        "    \n",
        "    return result"
      ]
    },
    {
      "cell_type": "code",
      "execution_count": null,
      "metadata": {},
      "outputs": [],
      "source": [
        "# Method 4: Direct stderr/stdout redirection\n",
        "import io\n",
        "import contextlib\n",
        "\n",
        "@contextlib.contextmanager\n",
        "def capture_all_output():\n",
        "    \"\"\"Capture both stdout and stderr.\"\"\"\n",
        "    old_stdout = sys.stdout\n",
        "    old_stderr = sys.stderr\n",
        "    \n",
        "    stdout_buffer = io.StringIO()\n",
        "    stderr_buffer = io.StringIO()\n",
        "    \n",
        "    # Create a custom writer that writes to both the buffer and the notebook\n",
        "    class TeeWriter:\n",
        "        def __init__(self, buffer, original):\n",
        "            self.buffer = buffer\n",
        "            self.original = original\n",
        "        \n",
        "        def write(self, data):\n",
        "            self.buffer.write(data)\n",
        "            self.original.write(data)\n",
        "            self.original.flush()  # Ensure immediate display\n",
        "        \n",
        "        def flush(self):\n",
        "            self.buffer.flush()\n",
        "            self.original.flush()\n",
        "    \n",
        "    try:\n",
        "        sys.stdout = TeeWriter(stdout_buffer, old_stdout)\n",
        "        sys.stderr = TeeWriter(stderr_buffer, old_stderr)\n",
        "        yield stdout_buffer, stderr_buffer\n",
        "    finally:\n",
        "        sys.stdout = old_stdout\n",
        "        sys.stderr = old_stderr"
      ]
    },
    {
      "cell_type": "code",
      "execution_count": null,
      "metadata": {},
      "outputs": [],
      "source": [
        "# Test function that would use BAML\n",
        "def test_baml_function():\n",
        "    print(\"Starting BAML test...\")\n",
        "    # This would be where your main() function runs\n",
        "    # For now, let's simulate some BAML-like output\n",
        "    print(\"[BAML] Initializing client...\")\n",
        "    print(\"[BAML] Running DetermineNextStep...\")\n",
        "    print(\"[BAML] Reasoning: User wants to multiply 3 and 4\")\n",
        "    print(\"[BAML] Result: MultiplyTool(a=3, b=4)\")\n",
        "    return \"Test completed\""
      ]
    },
    {
      "cell_type": "code",
      "execution_count": null,
      "metadata": {},
      "outputs": [],
      "source": [
        "# Test different methods\n",
        "print(\"Testing BAML logging capture methods...\\n\")\n",
        "\n",
        "# Method 1: Using IPython capture\n",
        "print(\"Method 1: IPython capture\")\n",
        "result = run_with_capture(test_baml_function)\n",
        "print(f\"Result: {result}\\n\")"
      ]
    },
    {
      "cell_type": "code",
      "execution_count": null,
      "metadata": {},
      "outputs": [],
      "source": [
        "# Method 2: Using context manager\n",
        "print(\"Method 2: Direct output capture\")\n",
        "with capture_all_output() as (stdout, stderr):\n",
        "    result = test_baml_function()\n",
        "print(f\"Result: {result}\")"
      ]
    },
    {
      "cell_type": "markdown",
      "metadata": {},
      "source": [
        "## For actual BAML usage\n",
        "\n",
        "When using actual BAML functions, the logs should appear if:\n",
        "\n",
        "1. `BAML_LOG` environment variable is set (we set it to 'info')\n",
        "2. You're using one of the capture methods above\n",
        "\n",
        "Example with real BAML:\n",
        "\n",
        "```python\n",
        "# Assuming you have your main() function from the workshop\n",
        "os.environ['BAML_LOG'] = 'info'\n",
        "\n",
        "# Use IPython capture\n",
        "with capture_output() as captured:\n",
        "    main(\"can you multiply 3 and 4\")\n",
        "\n",
        "# Display the logs\n",
        "print(\"=== Output ===\")\n",
        "print(captured.stdout)\n",
        "print(\"\\n=== Logs ===\")\n",
        "print(captured.stderr)\n",
        "```"
      ]
    },
    {
      "cell_type": "code",
      "execution_count": null,
      "metadata": {},
      "outputs": [],
      "source": [
        "# Method 5: Enable verbose subprocess output\n",
        "# This is useful if BAML is running as a subprocess\n",
        "\n",
        "def run_baml_with_logging():\n",
        "    # Ensure BAML_LOG is set\n",
        "    env = os.environ.copy()\n",
        "    env['BAML_LOG'] = 'info'\n",
        "    \n",
        "    # If BAML runs as subprocess, capture its output\n",
        "    result = subprocess.run(\n",
        "        ['python', '-c', 'print(\"BAML subprocess test\")'],\n",
        "        env=env,\n",
        "        capture_output=True,\n",
        "        text=True\n",
        "    )\n",
        "    \n",
        "    print(\"Subprocess stdout:\", result.stdout)\n",
        "    print(\"Subprocess stderr:\", result.stderr)\n",
        "\n",
        "run_baml_with_logging()"
      ]
    }
  ],
  "metadata": {
    "kernelspec": {
      "display_name": "Python 3",
      "language": "python",
      "name": "python3"
    },
    "language_info": {
      "codemirror_mode": {
        "name": "ipython",
        "version": 3
      },
      "file_extension": ".py",
      "mimetype": "text/x-python",
      "name": "python",
      "nbconvert_exporter": "python",
      "pygments_lexer": "ipython3",
      "version": "3.10.0"
    }
  },
  "nbformat": 4,
  "nbformat_minor": 4
}