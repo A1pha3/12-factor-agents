{
 "cells": [
  {
   "cell_type": "markdown",
   "id": "9a5274e1",
   "metadata": {},
   "source": [
    "# Building the 12-factor agent template from scratch in Python"
   ]
  },
  {
   "cell_type": "markdown",
   "id": "6a6efe20",
   "metadata": {},
   "source": [
    "Steps to start from a bare Python repo and build up a 12-factor agent. This walkthrough will guide you through creating a Python agent that follows the 12-factor methodology with BAML."
   ]
  },
  {
   "cell_type": "markdown",
   "id": "f8c0592e",
   "metadata": {},
   "source": [
    "## Chapter 0 - Hello World"
   ]
  },
  {
   "cell_type": "markdown",
   "id": "d0e804de",
   "metadata": {},
   "source": [
    "Let's start with a basic Python setup and a hello world program."
   ]
  },
  {
   "cell_type": "markdown",
   "id": "083841c5",
   "metadata": {},
   "source": [
    "This guide will walk you through building agents in Python with BAML.\n",
    "\n",
    "We'll start simple with a hello world program and gradually build up to a full agent.\n",
    "\n",
    "For this notebook, you'll need to have your OpenAI API key saved in Google Colab secrets.\n"
   ]
  },
  {
   "cell_type": "markdown",
   "id": "627ee046",
   "metadata": {},
   "source": [
    "Here's our simple hello world program:"
   ]
  },
  {
   "cell_type": "code",
   "execution_count": null,
   "id": "eaeb2d23",
   "metadata": {},
   "outputs": [],
   "source": [
    "# ./walkthrough/00-main.py\n",
    "def hello():\n",
    "    print('hello, world!')\n",
    "\n",
    "def main():\n",
    "    hello()"
   ]
  },
  {
   "cell_type": "markdown",
   "id": "fb5293e9",
   "metadata": {},
   "source": [
    "Let's run it to verify it works:"
   ]
  },
  {
   "cell_type": "code",
   "execution_count": null,
   "id": "4fedee3c",
   "metadata": {},
   "outputs": [],
   "source": [
    "main()"
   ]
  },
  {
   "cell_type": "markdown",
   "id": "974d58b8",
   "metadata": {},
   "source": [
    "## Chapter 1 - CLI and Agent Loop"
   ]
  },
  {
   "cell_type": "markdown",
   "id": "6fdcf8bb",
   "metadata": {},
   "source": [
    "Now let's add BAML and create our first agent with a CLI interface."
   ]
  },
  {
   "cell_type": "markdown",
   "id": "7aad128d",
   "metadata": {},
   "source": [
    "In this chapter, we'll integrate BAML to create an AI agent that can respond to user input.\n",
    "\n",
    "## What is BAML?\n",
    "\n",
    "BAML (Boundary Markup Language) is a domain-specific language designed to help developers build reliable AI workflows and agents. Created by [BoundaryML](https://www.boundaryml.com/) (a Y Combinator W23 company), BAML adds the engineering to prompt engineering.\n",
    "\n",
    "### Why BAML?\n",
    "\n",
    "- **Type-safe outputs**: Get fully type-safe outputs from LLMs, even when streaming\n",
    "- **Language agnostic**: Works with Python, TypeScript, Ruby, Go, and more\n",
    "- **LLM agnostic**: Works with any LLM provider (OpenAI, Anthropic, etc.)\n",
    "- **Better performance**: State-of-the-art structured outputs that outperform even OpenAI's native function calling\n",
    "- **Developer-friendly**: Native VSCode extension with syntax highlighting, autocomplete, and interactive playground\n",
    "\n",
    "### Learn More\n",
    "\n",
    "- 📚 [Official Documentation](https://docs.boundaryml.com/home)\n",
    "- 💻 [GitHub Repository](https://github.com/BoundaryML/baml)\n",
    "- 🎯 [What is BAML?](https://docs.boundaryml.com/guide/introduction/what-is-baml)\n",
    "- 📖 [BAML Examples](https://github.com/BoundaryML/baml-examples)\n",
    "- 🏢 [Company Website](https://www.boundaryml.com/)\n",
    "- 📰 [Blog: AI Agents Need a New Syntax](https://www.boundaryml.com/blog/ai-agents-need-new-syntax)\n",
    "\n",
    "BAML turns prompt engineering into schema engineering, where you focus on defining the structure of your data rather than wrestling with prompts. This approach leads to more reliable and maintainable AI applications.\n",
    "\n",
    "### Note on Developer Experience\n",
    "\n",
    "BAML works much better in VS Code with their official extension, which provides syntax highlighting, autocomplete, inline testing, and an interactive playground. However, for this notebook tutorial, we'll work with BAML files directly without the enhanced IDE features.\n",
    "\n",
    "First, let's set up BAML support in our notebook.\n"
   ]
  },
  {
   "cell_type": "markdown",
   "id": "9f17a460",
   "metadata": {},
   "source": [
    "### BAML Setup\n",
    "\n",
    "Don't worry too much about this setup code - it will make sense later! For now, just know that:\n",
    "- BAML is a tool for working with language models\n",
    "- We need some special setup code to make it work nicely in Google Colab\n",
    "- The `get_baml_client()` function will be used to interact with AI models"
   ]
  },
  {
   "cell_type": "code",
   "execution_count": null,
   "id": "aa2481ab",
   "metadata": {},
   "outputs": [],
   "source": [
    "!pip install baml-py==0.202.0 pydantic"
   ]
  },
  {
   "cell_type": "code",
   "execution_count": null,
   "id": "d6dbd418",
   "metadata": {},
   "outputs": [],
   "source": [
    "import subprocess\n",
    "import os\n",
    "\n",
    "# Try to import Google Colab userdata, but don't fail if not in Colab\n",
    "try:\n",
    "    from google.colab import userdata\n",
    "    IN_COLAB = True\n",
    "except ImportError:\n",
    "    IN_COLAB = False\n",
    "\n",
    "def baml_generate():\n",
    "    try:\n",
    "        result = subprocess.run(\n",
    "            [\"baml-cli\", \"generate\"],\n",
    "            check=True,\n",
    "            capture_output=True,\n",
    "            text=True\n",
    "        )\n",
    "        if result.stdout:\n",
    "            print(\"[baml-cli generate]\\n\", result.stdout)\n",
    "        if result.stderr:\n",
    "            print(\"[baml-cli generate]\\n\", result.stderr)\n",
    "    except subprocess.CalledProcessError as e:\n",
    "        msg = (\n",
    "            f\"`baml-cli generate` failed with exit code {e.returncode}\\n\"\n",
    "            f\"--- STDOUT ---\\n{e.stdout}\\n\"\n",
    "            f\"--- STDERR ---\\n{e.stderr}\"\n",
    "        )\n",
    "        raise RuntimeError(msg) from None\n",
    "\n",
    "def get_baml_client():\n",
    "    \"\"\"\n",
    "    a bunch of fun jank to work around the google colab import cache\n",
    "    \"\"\"\n",
    "    # Set API key from Colab secrets or environment\n",
    "    if IN_COLAB:\n",
    "        os.environ['OPENAI_API_KEY'] = userdata.get('OPENAI_API_KEY')\n",
    "    elif 'OPENAI_API_KEY' not in os.environ:\n",
    "        print(\"Warning: OPENAI_API_KEY not set. Please set it in your environment.\")\n",
    "    \n",
    "    baml_generate()\n",
    "    \n",
    "    # Force delete all baml_client modules from sys.modules\n",
    "    import sys\n",
    "    modules_to_delete = [key for key in sys.modules.keys() if key.startswith('baml_client')]\n",
    "    for module in modules_to_delete:\n",
    "        del sys.modules[module]\n",
    "    \n",
    "    # Now import fresh\n",
    "    import baml_client\n",
    "    return baml_client.sync_client.b\n"
   ]
  },
  {
   "cell_type": "code",
   "execution_count": null,
   "id": "b25f5c0c",
   "metadata": {},
   "outputs": [],
   "source": [
    "!baml-cli init"
   ]
  },
  {
   "cell_type": "markdown",
   "id": "64eb1d9b",
   "metadata": {},
   "source": [
    "Now let's create our agent that will use BAML to process user input.\n",
    "\n",
    "First, we'll define the core agent logic:\n"
   ]
  },
  {
   "cell_type": "code",
   "execution_count": null,
   "id": "2488f695",
   "metadata": {},
   "outputs": [],
   "source": [
    "# ./walkthrough/01-agent.py\n",
    "import json\n",
    "from typing import Dict, Any, List\n",
    "\n",
    "# tool call or a respond to human tool\n",
    "AgentResponse = Any  # This will be the return type from b.DetermineNextStep\n",
    "\n",
    "class Event:\n",
    "    def __init__(self, type: str, data: Any):\n",
    "        self.type = type\n",
    "        self.data = data\n",
    "\n",
    "class Thread:\n",
    "    def __init__(self, events: List[Dict[str, Any]]):\n",
    "        self.events = events\n",
    "    \n",
    "    def serialize_for_llm(self):\n",
    "        # can change this to whatever custom serialization you want to do, XML, etc\n",
    "        # e.g. https://github.com/got-agents/agents/blob/59ebbfa236fc376618f16ee08eb0f3bf7b698892/linear-assistant-ts/src/agent.ts#L66-L105\n",
    "        return json.dumps(self.events)\n",
    "\n",
    "# right now this just runs one turn with the LLM, but\n",
    "# we'll update this function to handle all the agent logic\n",
    "def agent_loop(thread: Thread) -> AgentResponse:\n",
    "    b = get_baml_client()  # This will be defined by the BAML setup\n",
    "    next_step = b.DetermineNextStep(thread.serialize_for_llm())\n",
    "    return next_step"
   ]
  },
  {
   "cell_type": "markdown",
   "id": "6c0c0588",
   "metadata": {},
   "source": [
    "Next, we need to define the BAML function that our agent will use.\n",
    "\n",
    "### Understanding BAML Syntax\n",
    "\n",
    "BAML files define:\n",
    "- **Classes**: Structured output schemas (like `DoneForNow` below)\n",
    "- **Functions**: AI-powered functions that take inputs and return structured outputs\n",
    "- **Tests**: Example inputs/outputs to validate your prompts\n",
    "\n",
    "This BAML file defines what our agent can do:\n"
   ]
  },
  {
   "cell_type": "code",
   "execution_count": null,
   "id": "a5462c6b",
   "metadata": {},
   "outputs": [],
   "source": [
    "!curl -fsSL -o baml_src/agent.baml https://raw.githubusercontent.com/humanlayer/12-factor-agents/refs/heads/main/workshops/2025-07-16/./walkthrough/01-agent.baml && cat baml_src/agent.baml"
   ]
  },
  {
   "cell_type": "markdown",
   "id": "9ff08812",
   "metadata": {},
   "source": [
    "Now let's create our main function that accepts a message parameter:\n"
   ]
  },
  {
   "cell_type": "code",
   "execution_count": null,
   "id": "a7c49c77",
   "metadata": {},
   "outputs": [],
   "source": [
    "# ./walkthrough/01-main.py\n",
    "def main(message=\"hello from the notebook!\"):\n",
    "    # Create a new thread with the user's message as the initial event\n",
    "    thread = Thread([{\"type\": \"user_input\", \"data\": message}])\n",
    "    \n",
    "    # Run the agent loop with the thread\n",
    "    result = agent_loop(thread)\n",
    "    print(result)"
   ]
  },
  {
   "cell_type": "markdown",
   "id": "ad905bd3",
   "metadata": {},
   "source": [
    "Let's test our agent! Try calling main() with different messages:\n",
    "- `main(\"What's the weather like?\")`\n",
    "- `main(\"Tell me a joke\")`\n",
    "- `main(\"How are you doing today?\")`\n"
   ]
  },
  {
   "cell_type": "code",
   "execution_count": null,
   "id": "6211ff4e",
   "metadata": {},
   "outputs": [],
   "source": [
    "baml_generate()"
   ]
  },
  {
   "cell_type": "code",
   "execution_count": null,
   "id": "f41dba2f",
   "metadata": {},
   "outputs": [],
   "source": [
    "main(\"Hello from the Python notebook!\")"
   ]
  },
  {
   "cell_type": "markdown",
   "id": "81a15b53",
   "metadata": {},
   "source": [
    "## Chapter 2 - Add Calculator Tools"
   ]
  },
  {
   "cell_type": "markdown",
   "id": "414016d0",
   "metadata": {},
   "source": [
    "Let's add some calculator tools to our agent."
   ]
  },
  {
   "cell_type": "markdown",
   "id": "758fbf1b",
   "metadata": {},
   "source": [
    "Let's start by adding a tool definition for the calculator.\n",
    "\n",
    "These are simple structured outputs that we'll ask the model to\n",
    "return as a \"next step\" in the agentic loop.\n"
   ]
  },
  {
   "cell_type": "code",
   "execution_count": null,
   "id": "21a94991",
   "metadata": {},
   "outputs": [],
   "source": [
    "!curl -fsSL -o baml_src/tool_calculator.baml https://raw.githubusercontent.com/humanlayer/12-factor-agents/refs/heads/main/workshops/2025-07-16/./walkthrough/02-tool_calculator.baml && cat baml_src/tool_calculator.baml"
   ]
  },
  {
   "cell_type": "markdown",
   "id": "85436def",
   "metadata": {},
   "source": [
    "Now, let's update the agent's DetermineNextStep method to\n",
    "expose the calculator tools as potential next steps.\n"
   ]
  },
  {
   "cell_type": "code",
   "execution_count": null,
   "id": "75b9c2f0",
   "metadata": {},
   "outputs": [],
   "source": [
    "!curl -fsSL -o baml_src/agent.baml https://raw.githubusercontent.com/humanlayer/12-factor-agents/refs/heads/main/workshops/2025-07-16/./walkthrough/02-agent.baml && cat baml_src/agent.baml"
   ]
  },
  {
   "cell_type": "markdown",
   "id": "78ba8da1",
   "metadata": {},
   "source": [
    "Now let's update our main function to show the tool call:\n"
   ]
  },
  {
   "cell_type": "code",
   "execution_count": null,
   "id": "26aa645f",
   "metadata": {},
   "outputs": [],
   "source": [
    "# ./walkthrough/02-main.py\n",
    "def main(message=\"hello from the notebook!\"):\n",
    "    # Create a new thread with the user's message\n",
    "    thread = Thread([{\"type\": \"user_input\", \"data\": message}])\n",
    "    \n",
    "    # Get BAML client\n",
    "    b = get_baml_client()\n",
    "    \n",
    "    # Get the next step from the agent - just show the tool call\n",
    "    next_step = b.DetermineNextStep(thread.serialize_for_llm())\n",
    "    \n",
    "    # Print the raw response to show the tool call\n",
    "    print(next_step)"
   ]
  },
  {
   "cell_type": "markdown",
   "id": "a0e9730a",
   "metadata": {},
   "source": [
    "Let's try out the calculator! The agent should recognize that you want to perform a calculation\n",
    "and return the appropriate tool call instead of just a message.\n"
   ]
  },
  {
   "cell_type": "code",
   "execution_count": null,
   "id": "19902e4d",
   "metadata": {},
   "outputs": [],
   "source": [
    "baml_generate()"
   ]
  },
  {
   "cell_type": "code",
   "execution_count": null,
   "id": "01bf191e",
   "metadata": {},
   "outputs": [],
   "source": [
    "main(\"can you add 3 and 4\")"
   ]
  },
  {
   "cell_type": "markdown",
   "id": "c2485c13",
   "metadata": {},
   "source": [
    "## Chapter 3 - Process Tool Calls in a Loop"
   ]
  },
  {
   "cell_type": "markdown",
   "id": "dc99f949",
   "metadata": {},
   "source": [
    "Now let's add a real agentic loop that can run the tools and get a final answer from the LLM."
   ]
  },
  {
   "cell_type": "markdown",
   "id": "fe9a3718",
   "metadata": {},
   "source": [
    "In this chapter, we'll enhance our agent to process tool calls in a loop. This means:\n",
    "- The agent can call multiple tools in sequence\n",
    "- Each tool result is fed back to the agent\n",
    "- The agent continues until it has a final answer\n",
    "\n",
    "Let's update our agent to handle tool calls properly:\n"
   ]
  },
  {
   "cell_type": "code",
   "execution_count": null,
   "id": "1f279921",
   "metadata": {},
   "outputs": [],
   "source": [
    "# ./walkthrough/03-agent.py\n",
    "import json\n",
    "from typing import Dict, Any, List\n",
    "\n",
    "class Thread:\n",
    "    def __init__(self, events: List[Dict[str, Any]]):\n",
    "        self.events = events\n",
    "    \n",
    "    def serialize_for_llm(self):\n",
    "        # can change this to whatever custom serialization you want to do, XML, etc\n",
    "        # e.g. https://github.com/got-agents/agents/blob/59ebbfa236fc376618f16ee08eb0f3bf7b698892/linear-assistant-ts/src/agent.ts#L66-L105\n",
    "        return json.dumps(self.events)\n",
    "\n",
    "\n",
    "def agent_loop(thread: Thread) -> str:\n",
    "    b = get_baml_client()\n",
    "    \n",
    "    while True:\n",
    "        next_step = b.DetermineNextStep(thread.serialize_for_llm())\n",
    "        print(\"nextStep\", next_step)\n",
    "        \n",
    "        if next_step.intent == \"done_for_now\":\n",
    "            # response to human, return the next step object\n",
    "            return next_step.message\n",
    "        elif next_step.intent == \"add\":\n",
    "            thread.events.append({\n",
    "                \"type\": \"tool_call\",\n",
    "                \"data\": next_step.__dict__\n",
    "            })\n",
    "            result = next_step.a + next_step.b\n",
    "            print(\"tool_response\", result)\n",
    "            thread.events.append({\n",
    "                \"type\": \"tool_response\",\n",
    "                \"data\": result\n",
    "            })\n",
    "            continue\n",
    "        else:\n",
    "            raise ValueError(f\"Unknown intent: {next_step.intent}\")"
   ]
  },
  {
   "cell_type": "markdown",
   "id": "3457e09f",
   "metadata": {},
   "source": [
    "Now let's update our main function to use the new agent loop:\n"
   ]
  },
  {
   "cell_type": "code",
   "execution_count": null,
   "id": "92cc1194",
   "metadata": {},
   "outputs": [],
   "source": [
    "# ./walkthrough/03-main.py\n",
    "def main(message=\"hello from the notebook!\"):\n",
    "    # Create a new thread with the user's message\n",
    "    thread = Thread([{\"type\": \"user_input\", \"data\": message}])\n",
    "    \n",
    "    # Run the agent loop with full tool handling\n",
    "    result = agent_loop(thread)\n",
    "    \n",
    "    # Print the final response\n",
    "    print(f\"\\nFinal response: {result}\")"
   ]
  },
  {
   "cell_type": "markdown",
   "id": "8f4f81e1",
   "metadata": {},
   "source": [
    "Let's try it out! The agent should now call the tool and return the calculated result:\n"
   ]
  },
  {
   "cell_type": "code",
   "execution_count": null,
   "id": "71596095",
   "metadata": {},
   "outputs": [],
   "source": [
    "baml_generate()"
   ]
  },
  {
   "cell_type": "code",
   "execution_count": null,
   "id": "192f038e",
   "metadata": {},
   "outputs": [],
   "source": [
    "main(\"can you add 3 and 4\")"
   ]
  },
  {
   "cell_type": "markdown",
   "id": "c26d30b2",
   "metadata": {},
   "source": [
    "You should see the agent:\n",
    "1. Recognize it needs to use the add tool\n",
    "2. Call the tool with the correct parameters\n",
    "3. Get the result (7)\n",
    "4. Generate a final response incorporating the result\n",
    "\n",
    "For more complex calculations, we need to handle all calculator operations. Let's add support for subtract, multiply, and divide:\n"
   ]
  },
  {
   "cell_type": "code",
   "execution_count": null,
   "id": "c612395e",
   "metadata": {},
   "outputs": [],
   "source": [
    "# ./walkthrough/03b-agent.py\n",
    "import json\n",
    "from typing import Dict, Any, List, Union\n",
    "\n",
    "class Thread:\n",
    "    def __init__(self, events: List[Dict[str, Any]]):\n",
    "        self.events = events\n",
    "    \n",
    "    def serialize_for_llm(self):\n",
    "        # can change this to whatever custom serialization you want to do, XML, etc\n",
    "        # e.g. https://github.com/got-agents/agents/blob/59ebbfa236fc376618f16ee08eb0f3bf7b698892/linear-assistant-ts/src/agent.ts#L66-L105\n",
    "        return json.dumps(self.events)\n",
    "\n",
    "def handle_next_step(next_step, thread: Thread) -> Thread:\n",
    "    result: float\n",
    "    \n",
    "    if next_step.intent == \"add\":\n",
    "        result = next_step.a + next_step.b\n",
    "        print(\"tool_response\", result)\n",
    "        thread.events.append({\n",
    "            \"type\": \"tool_response\",\n",
    "            \"data\": result\n",
    "        })\n",
    "        return thread\n",
    "    elif next_step.intent == \"subtract\":\n",
    "        result = next_step.a - next_step.b\n",
    "        print(\"tool_response\", result)\n",
    "        thread.events.append({\n",
    "            \"type\": \"tool_response\",\n",
    "            \"data\": result\n",
    "        })\n",
    "        return thread\n",
    "    elif next_step.intent == \"multiply\":\n",
    "        result = next_step.a * next_step.b\n",
    "        print(\"tool_response\", result)\n",
    "        thread.events.append({\n",
    "            \"type\": \"tool_response\",\n",
    "            \"data\": result\n",
    "        })\n",
    "        return thread\n",
    "    elif next_step.intent == \"divide\":\n",
    "        result = next_step.a / next_step.b\n",
    "        print(\"tool_response\", result)\n",
    "        thread.events.append({\n",
    "            \"type\": \"tool_response\",\n",
    "            \"data\": result\n",
    "        })\n",
    "        return thread\n",
    "\n",
    "def agent_loop(thread: Thread) -> str:\n",
    "    b = get_baml_client()\n",
    "    \n",
    "    while True:\n",
    "        next_step = b.DetermineNextStep(thread.serialize_for_llm())\n",
    "        print(\"nextStep\", next_step)\n",
    "        \n",
    "        thread.events.append({\n",
    "            \"type\": \"tool_call\",\n",
    "            \"data\": next_step.__dict__\n",
    "        })\n",
    "        \n",
    "        if next_step.intent == \"done_for_now\":\n",
    "            # response to human, return the next step object\n",
    "            return next_step.message\n",
    "        elif next_step.intent in [\"add\", \"subtract\", \"multiply\", \"divide\"]:\n",
    "            thread = handle_next_step(next_step, thread)"
   ]
  },
  {
   "cell_type": "markdown",
   "id": "f2c066cb",
   "metadata": {},
   "source": [
    "Now let's test subtraction:\n"
   ]
  },
  {
   "cell_type": "code",
   "execution_count": null,
   "id": "d21dad8c",
   "metadata": {},
   "outputs": [],
   "source": [
    "main(\"can you subtract 3 from 4\")"
   ]
  },
  {
   "cell_type": "markdown",
   "id": "69fc9590",
   "metadata": {},
   "source": [
    "Test multiplication:\n"
   ]
  },
  {
   "cell_type": "code",
   "execution_count": null,
   "id": "ae1bf622",
   "metadata": {},
   "outputs": [],
   "source": [
    "main(\"can you multiply 3 and 4\")"
   ]
  },
  {
   "cell_type": "markdown",
   "id": "dada4d98",
   "metadata": {},
   "source": [
    "Finally, let's test a complex multi-step calculation:\n"
   ]
  },
  {
   "cell_type": "code",
   "execution_count": null,
   "id": "1f29ef37",
   "metadata": {},
   "outputs": [],
   "source": [
    "main(\"can you multiply 3 and 4, then divide the result by 2 and then add 12 to that result\")"
   ]
  },
  {
   "cell_type": "markdown",
   "id": "38a60e47",
   "metadata": {},
   "source": [
    "Congratulations! You've taken your first step into hand-rolling an agent loop.\n",
    "\n",
    "Key concepts you've learned:\n",
    "- **Thread Management**: Tracking conversation history and tool calls\n",
    "- **Tool Execution**: Processing different tool types and returning results\n",
    "- **Agent Loop**: Continuing until the agent has a final answer\n",
    "\n",
    "From here, we'll start incorporating more intermediate and advanced concepts for 12-factor agents."
   ]
  }
 ],
 "metadata": {},
 "nbformat": 4,
 "nbformat_minor": 5
}
