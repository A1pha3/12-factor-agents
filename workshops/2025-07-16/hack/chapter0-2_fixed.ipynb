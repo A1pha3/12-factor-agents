{
 "cells": [
  {
   "cell_type": "markdown",
   "id": "acc41186",
   "metadata": {},
   "source": [
    "# Building the 12-factor agent template from scratch in Python"
   ]
  },
  {
   "cell_type": "markdown",
   "id": "8fe9763f",
   "metadata": {},
   "source": [
    "Steps to start from a bare Python repo and build up a 12-factor agent. This walkthrough will guide you through creating a Python agent that follows the 12-factor methodology with BAML."
   ]
  },
  {
   "cell_type": "markdown",
   "id": "4123e288",
   "metadata": {},
   "source": [
    "## Chapter 0 - Hello World"
   ]
  },
  {
   "cell_type": "markdown",
   "id": "94bee0c3",
   "metadata": {},
   "source": [
    "Let's start with a basic Python setup and a hello world program."
   ]
  },
  {
   "cell_type": "markdown",
   "id": "48330d87",
   "metadata": {},
   "source": [
    "This guide will walk you through building agents in Python with BAML.\n",
    "\n",
    "We'll start simple with a hello world program and gradually build up to a full agent.\n",
    "\n",
    "For this notebook, you'll need to have your OpenAI API key saved in Google Colab secrets.\n"
   ]
  },
  {
   "cell_type": "markdown",
   "id": "8ed91b3c",
   "metadata": {},
   "source": [
    "Here's our simple hello world program:"
   ]
  },
  {
   "cell_type": "code",
   "execution_count": null,
   "id": "e407a39f",
   "metadata": {},
   "outputs": [],
   "source": [
    "# ./walkthrough/00-main.py\n",
    "def hello():\n",
    "    print('hello, world!')\n",
    "\n",
    "def main():\n",
    "    hello()"
   ]
  },
  {
   "cell_type": "markdown",
   "id": "1308eecd",
   "metadata": {},
   "source": [
    "Let's run it to verify it works:"
   ]
  },
  {
   "cell_type": "code",
   "execution_count": null,
   "id": "e4f8da08",
   "metadata": {},
   "outputs": [],
   "source": [
    "main()"
   ]
  },
  {
   "cell_type": "markdown",
   "id": "e3d31d30",
   "metadata": {},
   "source": [
    "## Chapter 1 - CLI and Agent Loop"
   ]
  },
  {
   "cell_type": "markdown",
   "id": "bed806b8",
   "metadata": {},
   "source": [
    "Now let's add BAML and create our first agent with a CLI interface."
   ]
  },
  {
   "cell_type": "markdown",
   "id": "d4609f1f",
   "metadata": {},
   "source": [
    "In this chapter, we'll integrate BAML to create an AI agent that can respond to user input.\n",
    "\n",
    "## What is BAML?\n",
    "\n",
    "BAML (Boundary Markup Language) is a domain-specific language designed to help developers build reliable AI workflows and agents. Created by [BoundaryML](https://www.boundaryml.com/) (a Y Combinator W23 company), BAML adds the engineering to prompt engineering.\n",
    "\n",
    "### Why BAML?\n",
    "\n",
    "- **Type-safe outputs**: Get fully type-safe outputs from LLMs, even when streaming\n",
    "- **Language agnostic**: Works with Python, TypeScript, Ruby, Go, and more\n",
    "- **LLM agnostic**: Works with any LLM provider (OpenAI, Anthropic, etc.)\n",
    "- **Better performance**: State-of-the-art structured outputs that outperform even OpenAI's native function calling\n",
    "- **Developer-friendly**: Native VSCode extension with syntax highlighting, autocomplete, and interactive playground\n",
    "\n",
    "### Learn More\n",
    "\n",
    "- 📚 [Official Documentation](https://docs.boundaryml.com/home)\n",
    "- 💻 [GitHub Repository](https://github.com/BoundaryML/baml)\n",
    "- 🎯 [What is BAML?](https://docs.boundaryml.com/guide/introduction/what-is-baml)\n",
    "- 📖 [BAML Examples](https://github.com/BoundaryML/baml-examples)\n",
    "- 🏢 [Company Website](https://www.boundaryml.com/)\n",
    "- 📰 [Blog: AI Agents Need a New Syntax](https://www.boundaryml.com/blog/ai-agents-need-new-syntax)\n",
    "\n",
    "BAML turns prompt engineering into schema engineering, where you focus on defining the structure of your data rather than wrestling with prompts. This approach leads to more reliable and maintainable AI applications.\n",
    "\n",
    "### Note on Developer Experience\n",
    "\n",
    "BAML works much better in VS Code with their official extension, which provides syntax highlighting, autocomplete, inline testing, and an interactive playground. However, for this notebook tutorial, we'll work with BAML files directly without the enhanced IDE features.\n",
    "\n",
    "First, let's set up BAML support in our notebook.\n"
   ]
  },
  {
   "cell_type": "markdown",
   "id": "a1667330",
   "metadata": {},
   "source": [
    "### BAML Setup\n",
    "\n",
    "Don't worry too much about this setup code - it will make sense later! For now, just know that:\n",
    "- BAML is a tool for working with language models\n",
    "- We need some special setup code to make it work nicely in Google Colab\n",
    "- The `get_baml_client()` function will be used to interact with AI models"
   ]
  },
  {
   "cell_type": "code",
   "execution_count": null,
   "id": "f4bc29c7",
   "metadata": {},
   "outputs": [],
   "source": [
    "!pip install baml-py==0.202.0 pydantic"
   ]
  },
  {
   "cell_type": "code",
   "execution_count": null,
   "id": "8c2328cd",
   "metadata": {},
   "outputs": [],
   "source": [
    "import subprocess\n",
    "import os\n",
    "\n",
    "# Try to import Google Colab userdata, but don't fail if not in Colab\n",
    "try:\n",
    "    from google.colab import userdata\n",
    "    IN_COLAB = True\n",
    "except ImportError:\n",
    "    IN_COLAB = False\n",
    "\n",
    "def baml_generate():\n",
    "    try:\n",
    "        result = subprocess.run(\n",
    "            [\"baml-cli\", \"generate\"],\n",
    "            check=True,\n",
    "            capture_output=True,\n",
    "            text=True\n",
    "        )\n",
    "        if result.stdout:\n",
    "            print(\"[baml-cli generate]\\n\", result.stdout)\n",
    "        if result.stderr:\n",
    "            print(\"[baml-cli generate]\\n\", result.stderr)\n",
    "    except subprocess.CalledProcessError as e:\n",
    "        msg = (\n",
    "            f\"`baml-cli generate` failed with exit code {e.returncode}\\n\"\n",
    "            f\"--- STDOUT ---\\n{e.stdout}\\n\"\n",
    "            f\"--- STDERR ---\\n{e.stderr}\"\n",
    "        )\n",
    "        raise RuntimeError(msg) from None\n",
    "\n",
    "def get_baml_client():\n",
    "    \"\"\"\n",
    "    a bunch of fun jank to work around the google colab import cache\n",
    "    \"\"\"\n",
    "    # Set API key from Colab secrets or environment\n",
    "    if IN_COLAB:\n",
    "        os.environ['OPENAI_API_KEY'] = userdata.get('OPENAI_API_KEY')\n",
    "    elif 'OPENAI_API_KEY' not in os.environ:\n",
    "        print(\"Warning: OPENAI_API_KEY not set. Please set it in your environment.\")\n",
    "    \n",
    "    baml_generate()\n",
    "    \n",
    "    import importlib\n",
    "    import baml_client\n",
    "    importlib.reload(baml_client)\n",
    "    return baml_client.sync_client.b\n"
   ]
  },
  {
   "cell_type": "code",
   "execution_count": null,
   "id": "236e47e5",
   "metadata": {},
   "outputs": [],
   "source": [
    "!baml-cli init"
   ]
  },
  {
   "cell_type": "markdown",
   "id": "283a46ca",
   "metadata": {},
   "source": [
    "Now let's create our agent that will use BAML to process user input.\n",
    "\n",
    "First, we'll define the core agent logic:\n"
   ]
  },
  {
   "cell_type": "code",
   "execution_count": null,
   "id": "537ac878",
   "metadata": {},
   "outputs": [],
   "source": [
    "# ./walkthrough/01-agent.py\n",
    "import json\n",
    "from typing import Dict, Any, List\n",
    "\n",
    "# tool call or a respond to human tool\n",
    "AgentResponse = Any  # This will be the return type from b.DetermineNextStep\n",
    "\n",
    "class Event:\n",
    "    def __init__(self, type: str, data: Any):\n",
    "        self.type = type\n",
    "        self.data = data\n",
    "\n",
    "class Thread:\n",
    "    def __init__(self, events: List[Dict[str, Any]]):\n",
    "        self.events = events\n",
    "    \n",
    "    def serialize_for_llm(self):\n",
    "        # can change this to whatever custom serialization you want to do, XML, etc\n",
    "        # e.g. https://github.com/got-agents/agents/blob/59ebbfa236fc376618f16ee08eb0f3bf7b698892/linear-assistant-ts/src/agent.ts#L66-L105\n",
    "        return json.dumps(self.events)\n",
    "\n",
    "# right now this just runs one turn with the LLM, but\n",
    "# we'll update this function to handle all the agent logic\n",
    "def agent_loop(thread: Thread) -> AgentResponse:\n",
    "    b = get_baml_client()  # This will be defined by the BAML setup\n",
    "    next_step = b.DetermineNextStep(thread.serialize_for_llm())\n",
    "    return next_step"
   ]
  },
  {
   "cell_type": "markdown",
   "id": "1682e8b7",
   "metadata": {},
   "source": [
    "Next, we need to define the BAML function that our agent will use.\n",
    "\n",
    "### Understanding BAML Syntax\n",
    "\n",
    "BAML files define:\n",
    "- **Classes**: Structured output schemas (like `DoneForNow` below)\n",
    "- **Functions**: AI-powered functions that take inputs and return structured outputs\n",
    "- **Tests**: Example inputs/outputs to validate your prompts\n",
    "\n",
    "This BAML file defines what our agent can do:\n"
   ]
  },
  {
   "cell_type": "code",
   "execution_count": null,
   "id": "c5c5f245",
   "metadata": {},
   "outputs": [],
   "source": [
    "!curl -fsSL -o baml_src/agent.baml https://raw.githubusercontent.com/humanlayer/12-factor-agents/refs/heads/main/workshops/2025-07-16/./walkthrough/01-agent.baml && cat baml_src/agent.baml"
   ]
  },
  {
   "cell_type": "markdown",
   "id": "4bc7b6e8",
   "metadata": {},
   "source": [
    "Now let's create our main function that accepts a message parameter:\n"
   ]
  },
  {
   "cell_type": "code",
   "execution_count": null,
   "id": "8d6092ec",
   "metadata": {},
   "outputs": [],
   "source": [
    "# ./walkthrough/01-main.py\n",
    "def main(message=\"hello from the notebook!\"):\n",
    "    # Create a new thread with the user's message as the initial event\n",
    "    thread = Thread([{\"type\": \"user_input\", \"data\": message}])\n",
    "    \n",
    "    # Run the agent loop with the thread\n",
    "    result = agent_loop(thread)\n",
    "    print(result)"
   ]
  },
  {
   "cell_type": "markdown",
   "id": "9cbb5999",
   "metadata": {},
   "source": [
    "Let's test our agent! Try calling main() with different messages:\n",
    "- `main(\"What's the weather like?\")`\n",
    "- `main(\"Tell me a joke\")`\n",
    "- `main(\"How are you doing today?\")`\n"
   ]
  },
  {
   "cell_type": "code",
   "execution_count": null,
   "id": "1943e86f",
   "metadata": {},
   "outputs": [],
   "source": [
    "baml_generate()"
   ]
  },
  {
   "cell_type": "code",
   "execution_count": null,
   "id": "3813fcea",
   "metadata": {},
   "outputs": [],
   "source": [
    "main(\"Hello from the Python notebook!\")"
   ]
  },
  {
   "cell_type": "markdown",
   "id": "6efa881e",
   "metadata": {},
   "source": [
    "## Chapter 2 - Add Calculator Tools"
   ]
  },
  {
   "cell_type": "markdown",
   "id": "8ee92c1a",
   "metadata": {},
   "source": [
    "Let's add some calculator tools to our agent."
   ]
  },
  {
   "cell_type": "markdown",
   "id": "b20ebd98",
   "metadata": {},
   "source": [
    "Let's start by adding a tool definition for the calculator.\n",
    "\n",
    "These are simple structured outputs that we'll ask the model to\n",
    "return as a \"next step\" in the agentic loop.\n"
   ]
  },
  {
   "cell_type": "code",
   "execution_count": null,
   "id": "c3e2f2bb",
   "metadata": {},
   "outputs": [],
   "source": [
    "!curl -fsSL -o baml_src/tool_calculator.baml https://raw.githubusercontent.com/humanlayer/12-factor-agents/refs/heads/main/workshops/2025-07-16/./walkthrough/02-tool_calculator.baml && cat baml_src/tool_calculator.baml"
   ]
  },
  {
   "cell_type": "markdown",
   "id": "9bdddec7",
   "metadata": {},
   "source": [
    "Now, let's update the agent's DetermineNextStep method to\n",
    "expose the calculator tools as potential next steps.\n"
   ]
  },
  {
   "cell_type": "code",
   "execution_count": null,
   "id": "8f027eae",
   "metadata": {},
   "outputs": [],
   "source": [
    "!curl -fsSL -o baml_src/agent.baml https://raw.githubusercontent.com/humanlayer/12-factor-agents/refs/heads/main/workshops/2025-07-16/./walkthrough/02-agent.baml && cat baml_src/agent.baml"
   ]
  },
  {
   "cell_type": "markdown",
   "id": "485b6900",
   "metadata": {},
   "source": [
    "Now let's update our main function to show the tool call:\n"
   ]
  },
  {
   "cell_type": "code",
   "execution_count": null,
   "id": "10fc6d7e",
   "metadata": {},
   "outputs": [],
   "source": [
    "# ./walkthrough/02-main.py\n",
    "def main(message=\"hello from the notebook!\"):\n",
    "    # Create a new thread with the user's message\n",
    "    thread = Thread([{\"type\": \"user_input\", \"data\": message}])\n",
    "    \n",
    "    # Get BAML client\n",
    "    b = get_baml_client()\n",
    "    \n",
    "    # Get the next step from the agent - just show the tool call\n",
    "    next_step = b.DetermineNextStep(thread.serialize_for_llm())\n",
    "    \n",
    "    # Print the raw response to show the tool call\n",
    "    print(next_step)"
   ]
  },
  {
   "cell_type": "markdown",
   "id": "130656ac",
   "metadata": {},
   "source": [
    "Let's try out the calculator! The agent should recognize that you want to perform a calculation\n",
    "and return the appropriate tool call instead of just a message.\n"
   ]
  },
  {
   "cell_type": "code",
   "execution_count": null,
   "id": "5e3e0e86",
   "metadata": {},
   "outputs": [],
   "source": [
    "baml_generate()"
   ]
  },
  {
   "cell_type": "code",
   "execution_count": null,
   "id": "30bc78cc",
   "metadata": {},
   "outputs": [],
   "source": [
    "main(\"can you add 3 and 4\")"
   ]
  }
 ],
 "metadata": {},
 "nbformat": 4,
 "nbformat_minor": 5
}
