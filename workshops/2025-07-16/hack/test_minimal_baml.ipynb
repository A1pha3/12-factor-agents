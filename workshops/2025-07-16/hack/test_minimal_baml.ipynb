{
 "cells": [
  {
   "cell_type": "markdown",
   "metadata": {},
   "source": [
    "# Minimal BAML Logging Test"
   ]
  },
  {
   "cell_type": "code",
   "execution_count": null,
   "metadata": {},
   "outputs": [],
   "source": [
    "import os\n",
    "import sys\n",
    "from IPython.utils.capture import capture_output\n",
    "\n",
    "# Set BAML log level\n",
    "os.environ['BAML_LOG'] = 'info'\n",
    "\n",
    "# Test direct stderr write\n",
    "print(\"Testing stderr capture...\")\n",
    "with capture_output() as captured:\n",
    "    print(\"This goes to stdout\")\n",
    "    print(\"This goes to stderr\", file=sys.stderr)\n",
    "\n",
    "print(\"Captured stdout:\", captured.stdout)\n",
    "print(\"Captured stderr:\", captured.stderr)"
   ]
  },
  {
   "cell_type": "code",
   "execution_count": null,
   "metadata": {},
   "outputs": [],
   "source": [
    "# Test with real BAML if available\n",
    "try:\n",
    "    # Simple function that might generate BAML logs\n",
    "    def test_function():\n",
    "        print(\"Function output\")\n",
    "        # Simulate BAML log to stderr\n",
    "        print(\"[BAML INFO] Test log message\", file=sys.stderr)\n",
    "        return \"Result\"\n",
    "    \n",
    "    # Capture with helper\n",
    "    def run_with_capture(func, *args, **kwargs):\n",
    "        with capture_output() as captured:\n",
    "            result = func(*args, **kwargs)\n",
    "        \n",
    "        if result:\n",
    "            print(f\"Result: {result}\")\n",
    "        if captured.stdout:\n",
    "            print(f\"\\nStdout:\\n{captured.stdout}\")\n",
    "        if captured.stderr:\n",
    "            print(f\"\\nStderr (logs):\\n{captured.stderr}\")\n",
    "        \n",
    "        return result\n",
    "    \n",
    "    run_with_capture(test_function)\n",
    "except Exception as e:\n",
    "    print(f\"Error: {e}\")"
   ]
  }
 ],
 "metadata": {
  "kernelspec": {
   "display_name": "Python 3",
   "language": "python",
   "name": "python3"
  },
  "language_info": {
   "name": "python",
   "version": "3.9.0"
  }
 },
 "nbformat": 4,
 "nbformat_minor": 4
}