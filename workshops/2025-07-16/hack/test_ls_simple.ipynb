{
 "cells": [
  {
   "cell_type": "markdown",
   "id": "dbb667e8",
   "metadata": {},
   "source": [
    "# Test ls commands"
   ]
  },
  {
   "cell_type": "markdown",
   "id": "99e50124",
   "metadata": {},
   "source": [
    "Quick test of ls baml_src commands"
   ]
  },
  {
   "cell_type": "markdown",
   "id": "997a97f4",
   "metadata": {},
   "source": [
    "## Test ls Commands"
   ]
  },
  {
   "cell_type": "markdown",
   "id": "0ddc0061",
   "metadata": {},
   "source": [
    "Testing ls after baml_setup and fetch_file"
   ]
  },
  {
   "cell_type": "markdown",
   "id": "55ae0fa8",
   "metadata": {},
   "source": [
    "Setting up BAML"
   ]
  },
  {
   "cell_type": "markdown",
   "id": "58e52249",
   "metadata": {},
   "source": [
    "### BAML Setup\n",
    "\n",
    "Don't worry too much about this setup code - it will make sense later! For now, just know that:\n",
    "- BAML is a tool for working with language models\n",
    "- We need some special setup code to make it work nicely in Google Colab\n",
    "- The `get_baml_client()` function will be used to interact with AI models"
   ]
  },
  {
   "cell_type": "code",
   "execution_count": null,
   "id": "39599131",
   "metadata": {},
   "outputs": [],
   "source": [
    "!pip install baml-py==0.202.0 pydantic"
   ]
  },
  {
   "cell_type": "code",
   "execution_count": null,
   "id": "0c3f24df",
   "metadata": {},
   "outputs": [],
   "source": [
    "import subprocess\n",
    "import os\n",
    "\n",
    "# Try to import Google Colab userdata, but don't fail if not in Colab\n",
    "try:\n",
    "    from google.colab import userdata\n",
    "    IN_COLAB = True\n",
    "except ImportError:\n",
    "    IN_COLAB = False\n",
    "\n",
    "def baml_generate():\n",
    "    try:\n",
    "        result = subprocess.run(\n",
    "            [\"baml-cli\", \"generate\"],\n",
    "            check=True,\n",
    "            capture_output=True,\n",
    "            text=True\n",
    "        )\n",
    "        if result.stdout:\n",
    "            print(\"[baml-cli generate]\\n\", result.stdout)\n",
    "        if result.stderr:\n",
    "            print(\"[baml-cli generate]\\n\", result.stderr)\n",
    "    except subprocess.CalledProcessError as e:\n",
    "        msg = (\n",
    "            f\"`baml-cli generate` failed with exit code {e.returncode}\\n\"\n",
    "            f\"--- STDOUT ---\\n{e.stdout}\\n\"\n",
    "            f\"--- STDERR ---\\n{e.stderr}\"\n",
    "        )\n",
    "        raise RuntimeError(msg) from None\n",
    "\n",
    "def get_baml_client():\n",
    "    \"\"\"\n",
    "    a bunch of fun jank to work around the google colab import cache\n",
    "    \"\"\"\n",
    "    # Set API key from Colab secrets or environment\n",
    "    if IN_COLAB:\n",
    "        os.environ['OPENAI_API_KEY'] = userdata.get('OPENAI_API_KEY')\n",
    "    elif 'OPENAI_API_KEY' not in os.environ:\n",
    "        print(\"Warning: OPENAI_API_KEY not set. Please set it in your environment.\")\n",
    "    \n",
    "    baml_generate()\n",
    "    \n",
    "    # Force delete all baml_client modules from sys.modules\n",
    "    import sys\n",
    "    modules_to_delete = [key for key in sys.modules.keys() if key.startswith('baml_client')]\n",
    "    for module in modules_to_delete:\n",
    "        del sys.modules[module]\n",
    "    \n",
    "    # Now import fresh\n",
    "    import baml_client\n",
    "    return baml_client.sync_client.b\n"
   ]
  },
  {
   "cell_type": "code",
   "execution_count": null,
   "id": "f08dd286",
   "metadata": {},
   "outputs": [],
   "source": [
    "!baml-cli init"
   ]
  },
  {
   "cell_type": "code",
   "execution_count": null,
   "id": "7e3d15a6",
   "metadata": {},
   "outputs": [],
   "source": [
    "# Helper function to capture BAML logs in notebook output\n",
    "import os\n",
    "from IPython.utils.capture import capture_output\n",
    "\n",
    "def run_with_baml_logs(func, *args, **kwargs):\n",
    "    \"\"\"Run a function and capture BAML logs in the notebook output.\"\"\"\n",
    "    # Capture both stdout and stderr\n",
    "    with capture_output() as captured:\n",
    "        result = func(*args, **kwargs)\n",
    "    \n",
    "    # Display the captured output\n",
    "    if captured.stdout:\n",
    "        print(captured.stdout)\n",
    "    if captured.stderr:\n",
    "        # BAML logs go to stderr - format them nicely\n",
    "        print(\"\\n=== BAML Logs ===\")\n",
    "        print(captured.stderr)\n",
    "        print(\"=================\\n\")\n",
    "    \n",
    "    return result\n",
    "\n",
    "# Set BAML log level (options: error, warn, info, debug, trace)\n",
    "os.environ['BAML_LOG'] = 'info'\n"
   ]
  },
  {
   "cell_type": "code",
   "execution_count": null,
   "id": "b91a6ba2",
   "metadata": {},
   "outputs": [],
   "source": [
    "!ls baml_src"
   ]
  },
  {
   "cell_type": "markdown",
   "id": "ea85a42e",
   "metadata": {},
   "source": [
    "After setup, we should see the default BAML files"
   ]
  },
  {
   "cell_type": "markdown",
   "id": "563ad350",
   "metadata": {},
   "source": [
    "Now fetching agent.baml"
   ]
  },
  {
   "cell_type": "code",
   "execution_count": null,
   "id": "565663a4",
   "metadata": {},
   "outputs": [],
   "source": [
    "!curl -fsSL -o baml_src/agent.baml https://raw.githubusercontent.com/humanlayer/12-factor-agents/refs/heads/main/workshops/2025-07-16/./walkthrough/01-agent.baml && cat baml_src/agent.baml"
   ]
  },
  {
   "cell_type": "code",
   "execution_count": null,
   "id": "cb9a2762",
   "metadata": {},
   "outputs": [],
   "source": [
    "!ls baml_src"
   ]
  },
  {
   "cell_type": "markdown",
   "id": "047a28ee",
   "metadata": {},
   "source": [
    "Now we should see agent.baml added"
   ]
  },
  {
   "cell_type": "markdown",
   "id": "0687d703",
   "metadata": {},
   "source": [
    "Fetching calculator tools"
   ]
  },
  {
   "cell_type": "code",
   "execution_count": null,
   "id": "5c9b83aa",
   "metadata": {},
   "outputs": [],
   "source": [
    "!curl -fsSL -o baml_src/tool_calculator.baml https://raw.githubusercontent.com/humanlayer/12-factor-agents/refs/heads/main/workshops/2025-07-16/./walkthrough/02-tool_calculator.baml && cat baml_src/tool_calculator.baml"
   ]
  },
  {
   "cell_type": "code",
   "execution_count": null,
   "id": "8c96c5aa",
   "metadata": {},
   "outputs": [],
   "source": [
    "!ls baml_src"
   ]
  },
  {
   "cell_type": "markdown",
   "id": "5ec1e510",
   "metadata": {},
   "source": [
    "Now we should see both agent.baml and tool_calculator.baml"
   ]
  }
 ],
 "metadata": {},
 "nbformat": 4,
 "nbformat_minor": 5
}
