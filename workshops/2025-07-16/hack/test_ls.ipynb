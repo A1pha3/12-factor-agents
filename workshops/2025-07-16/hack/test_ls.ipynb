{
 "cells": [
  {
   "cell_type": "markdown",
   "id": "a7e0b498",
   "metadata": {},
   "source": [
    "# Building the 12-factor agent template from scratch in Python"
   ]
  },
  {
   "cell_type": "markdown",
   "id": "75e1b19d",
   "metadata": {},
   "source": [
    "Steps to start from a bare Python repo and build up a 12-factor agent. This walkthrough will guide you through creating a Python agent that follows the 12-factor methodology with BAML."
   ]
  },
  {
   "cell_type": "markdown",
   "id": "cff7d3ca",
   "metadata": {},
   "source": [
    "## Chapter 0 - Hello World"
   ]
  },
  {
   "cell_type": "markdown",
   "id": "20a05438",
   "metadata": {},
   "source": [
    "Let's start with a basic Python setup and a hello world program."
   ]
  },
  {
   "cell_type": "markdown",
   "id": "0561440b",
   "metadata": {},
   "source": [
    "This guide will walk you through building agents in Python with BAML.\n",
    "\n",
    "We'll start simple with a hello world program and gradually build up to a full agent.\n",
    "\n",
    "For this notebook, you'll need to have your OpenAI API key saved in Google Colab secrets.\n"
   ]
  },
  {
   "cell_type": "markdown",
   "id": "c666d92f",
   "metadata": {},
   "source": [
    "Here's our simple hello world program:"
   ]
  },
  {
   "cell_type": "markdown",
   "id": "1e988980",
   "metadata": {},
   "source": [
    "**Error: File not found: ./walkthrough/00-main.py**"
   ]
  },
  {
   "cell_type": "markdown",
   "id": "7ef3bbd4",
   "metadata": {},
   "source": [
    "Let's run it to verify it works:"
   ]
  },
  {
   "cell_type": "code",
   "execution_count": null,
   "id": "c3c266b4",
   "metadata": {},
   "outputs": [],
   "source": [
    "main()"
   ]
  },
  {
   "cell_type": "markdown",
   "id": "5338c3f2",
   "metadata": {},
   "source": [
    "## Chapter 1 - CLI and Agent Loop"
   ]
  },
  {
   "cell_type": "markdown",
   "id": "8488b8da",
   "metadata": {},
   "source": [
    "Now let's add BAML and create our first agent with a CLI interface."
   ]
  },
  {
   "cell_type": "markdown",
   "id": "c3cb9573",
   "metadata": {},
   "source": [
    "In this chapter, we'll integrate BAML to create an AI agent that can respond to user input.\n",
    "\n",
    "## What is BAML?\n",
    "\n",
    "BAML (Boundary Markup Language) is a domain-specific language designed to help developers build reliable AI workflows and agents. Created by [BoundaryML](https://www.boundaryml.com/) (a Y Combinator W23 company), BAML adds the engineering to prompt engineering.\n",
    "\n",
    "### Why BAML?\n",
    "\n",
    "- **Type-safe outputs**: Get fully type-safe outputs from LLMs, even when streaming\n",
    "- **Language agnostic**: Works with Python, TypeScript, Ruby, Go, and more\n",
    "- **LLM agnostic**: Works with any LLM provider (OpenAI, Anthropic, etc.)\n",
    "- **Better performance**: State-of-the-art structured outputs that outperform even OpenAI's native function calling\n",
    "- **Developer-friendly**: Native VSCode extension with syntax highlighting, autocomplete, and interactive playground\n",
    "\n",
    "### Learn More\n",
    "\n",
    "- 📚 [Official Documentation](https://docs.boundaryml.com/home)\n",
    "- 💻 [GitHub Repository](https://github.com/BoundaryML/baml)\n",
    "- 🎯 [What is BAML?](https://docs.boundaryml.com/guide/introduction/what-is-baml)\n",
    "- 📖 [BAML Examples](https://github.com/BoundaryML/baml-examples)\n",
    "- 🏢 [Company Website](https://www.boundaryml.com/)\n",
    "- 📰 [Blog: AI Agents Need a New Syntax](https://www.boundaryml.com/blog/ai-agents-need-new-syntax)\n",
    "\n",
    "BAML turns prompt engineering into schema engineering, where you focus on defining the structure of your data rather than wrestling with prompts. This approach leads to more reliable and maintainable AI applications.\n",
    "\n",
    "### Note on Developer Experience\n",
    "\n",
    "BAML works much better in VS Code with their official extension, which provides syntax highlighting, autocomplete, inline testing, and an interactive playground. However, for this notebook tutorial, we'll work with BAML files directly without the enhanced IDE features.\n",
    "\n",
    "First, let's set up BAML support in our notebook.\n"
   ]
  },
  {
   "cell_type": "markdown",
   "id": "a4a079e6",
   "metadata": {},
   "source": [
    "### BAML Setup\n",
    "\n",
    "Don't worry too much about this setup code - it will make sense later! For now, just know that:\n",
    "- BAML is a tool for working with language models\n",
    "- We need some special setup code to make it work nicely in Google Colab\n",
    "- The `get_baml_client()` function will be used to interact with AI models"
   ]
  },
  {
   "cell_type": "code",
   "execution_count": null,
   "id": "c0afc7cd",
   "metadata": {},
   "outputs": [],
   "source": [
    "!pip install baml-py==0.202.0 pydantic"
   ]
  },
  {
   "cell_type": "code",
   "execution_count": null,
   "id": "132ef52a",
   "metadata": {},
   "outputs": [],
   "source": [
    "import subprocess\n",
    "import os\n",
    "\n",
    "# Try to import Google Colab userdata, but don't fail if not in Colab\n",
    "try:\n",
    "    from google.colab import userdata\n",
    "    IN_COLAB = True\n",
    "except ImportError:\n",
    "    IN_COLAB = False\n",
    "\n",
    "def baml_generate():\n",
    "    try:\n",
    "        result = subprocess.run(\n",
    "            [\"baml-cli\", \"generate\"],\n",
    "            check=True,\n",
    "            capture_output=True,\n",
    "            text=True\n",
    "        )\n",
    "        if result.stdout:\n",
    "            print(\"[baml-cli generate]\\n\", result.stdout)\n",
    "        if result.stderr:\n",
    "            print(\"[baml-cli generate]\\n\", result.stderr)\n",
    "    except subprocess.CalledProcessError as e:\n",
    "        msg = (\n",
    "            f\"`baml-cli generate` failed with exit code {e.returncode}\\n\"\n",
    "            f\"--- STDOUT ---\\n{e.stdout}\\n\"\n",
    "            f\"--- STDERR ---\\n{e.stderr}\"\n",
    "        )\n",
    "        raise RuntimeError(msg) from None\n",
    "\n",
    "def get_baml_client():\n",
    "    \"\"\"\n",
    "    a bunch of fun jank to work around the google colab import cache\n",
    "    \"\"\"\n",
    "    # Set API key from Colab secrets or environment\n",
    "    if IN_COLAB:\n",
    "        os.environ['OPENAI_API_KEY'] = userdata.get('OPENAI_API_KEY')\n",
    "    elif 'OPENAI_API_KEY' not in os.environ:\n",
    "        print(\"Warning: OPENAI_API_KEY not set. Please set it in your environment.\")\n",
    "    \n",
    "    baml_generate()\n",
    "    \n",
    "    # Force delete all baml_client modules from sys.modules\n",
    "    import sys\n",
    "    modules_to_delete = [key for key in sys.modules.keys() if key.startswith('baml_client')]\n",
    "    for module in modules_to_delete:\n",
    "        del sys.modules[module]\n",
    "    \n",
    "    # Now import fresh\n",
    "    import baml_client\n",
    "    return baml_client.sync_client.b\n"
   ]
  },
  {
   "cell_type": "code",
   "execution_count": null,
   "id": "10879e26",
   "metadata": {},
   "outputs": [],
   "source": [
    "!baml-cli init"
   ]
  },
  {
   "cell_type": "code",
   "execution_count": null,
   "id": "8eb8ffba",
   "metadata": {},
   "outputs": [],
   "source": [
    "# Helper function to capture BAML logs in notebook output\n",
    "import os\n",
    "from IPython.utils.capture import capture_output\n",
    "\n",
    "def run_with_baml_logs(func, *args, **kwargs):\n",
    "    \"\"\"Run a function and capture BAML logs in the notebook output.\"\"\"\n",
    "    # Capture both stdout and stderr\n",
    "    with capture_output() as captured:\n",
    "        result = func(*args, **kwargs)\n",
    "    \n",
    "    # Display the captured output\n",
    "    if captured.stdout:\n",
    "        print(captured.stdout)\n",
    "    if captured.stderr:\n",
    "        # BAML logs go to stderr - format them nicely\n",
    "        print(\"\\n=== BAML Logs ===\")\n",
    "        print(captured.stderr)\n",
    "        print(\"=================\\n\")\n",
    "    \n",
    "    return result\n",
    "\n",
    "# Set BAML log level (options: error, warn, info, debug, trace)\n",
    "os.environ['BAML_LOG'] = 'info'\n"
   ]
  },
  {
   "cell_type": "code",
   "execution_count": null,
   "id": "171a2f80",
   "metadata": {},
   "outputs": [],
   "source": [
    "!ls baml_src"
   ]
  },
  {
   "cell_type": "markdown",
   "id": "3fc673ad",
   "metadata": {},
   "source": [
    "Now let's create our agent that will use BAML to process user input.\n",
    "\n",
    "First, we'll define the core agent logic:\n"
   ]
  },
  {
   "cell_type": "markdown",
   "id": "a398b1d5",
   "metadata": {},
   "source": [
    "**Error: File not found: ./walkthrough/01-agent.py**"
   ]
  },
  {
   "cell_type": "markdown",
   "id": "1ed63128",
   "metadata": {},
   "source": [
    "Next, we need to define the BAML function that our agent will use.\n",
    "\n",
    "### Understanding BAML Syntax\n",
    "\n",
    "BAML files define:\n",
    "- **Classes**: Structured output schemas (like `DoneForNow` below)\n",
    "- **Functions**: AI-powered functions that take inputs and return structured outputs\n",
    "- **Tests**: Example inputs/outputs to validate your prompts\n",
    "\n",
    "This BAML file defines what our agent can do:\n"
   ]
  },
  {
   "cell_type": "code",
   "execution_count": null,
   "id": "3c162423",
   "metadata": {},
   "outputs": [],
   "source": [
    "!curl -fsSL -o baml_src/agent.baml https://raw.githubusercontent.com/humanlayer/12-factor-agents/refs/heads/main/workshops/2025-07-16/./walkthrough/01-agent.baml && cat baml_src/agent.baml"
   ]
  },
  {
   "cell_type": "code",
   "execution_count": null,
   "id": "735f873b",
   "metadata": {},
   "outputs": [],
   "source": [
    "!ls baml_src"
   ]
  },
  {
   "cell_type": "markdown",
   "id": "52fba74f",
   "metadata": {},
   "source": [
    "Now let's create our main function that accepts a message parameter:\n"
   ]
  },
  {
   "cell_type": "markdown",
   "id": "069e40fb",
   "metadata": {},
   "source": [
    "**Error: File not found: ./walkthrough/01-main.py**"
   ]
  },
  {
   "cell_type": "markdown",
   "id": "5ec5aab1",
   "metadata": {},
   "source": [
    "Let's test our agent! Try calling main() with different messages:\n",
    "- `main(\"What's the weather like?\")`\n",
    "- `main(\"Tell me a joke\")`\n",
    "- `main(\"How are you doing today?\")`\n"
   ]
  },
  {
   "cell_type": "code",
   "execution_count": null,
   "id": "981b1e1d",
   "metadata": {},
   "outputs": [],
   "source": [
    "baml_generate()"
   ]
  },
  {
   "cell_type": "code",
   "execution_count": null,
   "id": "1051a26a",
   "metadata": {},
   "outputs": [],
   "source": [
    "run_with_baml_logs(main, \"Hello from the Python notebook!\")"
   ]
  },
  {
   "cell_type": "markdown",
   "id": "c7e56a1a",
   "metadata": {},
   "source": [
    "## Chapter 2 - Add Calculator Tools"
   ]
  },
  {
   "cell_type": "markdown",
   "id": "c3491db8",
   "metadata": {},
   "source": [
    "Let's add some calculator tools to our agent."
   ]
  },
  {
   "cell_type": "markdown",
   "id": "04abe821",
   "metadata": {},
   "source": [
    "Let's start by adding a tool definition for the calculator.\n",
    "\n",
    "These are simple structured outputs that we'll ask the model to\n",
    "return as a \"next step\" in the agentic loop.\n"
   ]
  },
  {
   "cell_type": "code",
   "execution_count": null,
   "id": "af3184f8",
   "metadata": {},
   "outputs": [],
   "source": [
    "!curl -fsSL -o baml_src/tool_calculator.baml https://raw.githubusercontent.com/humanlayer/12-factor-agents/refs/heads/main/workshops/2025-07-16/./walkthrough/02-tool_calculator.baml && cat baml_src/tool_calculator.baml"
   ]
  },
  {
   "cell_type": "code",
   "execution_count": null,
   "id": "b4dab445",
   "metadata": {},
   "outputs": [],
   "source": [
    "!ls baml_src"
   ]
  },
  {
   "cell_type": "markdown",
   "id": "1473c3c5",
   "metadata": {},
   "source": [
    "Now, let's update the agent's DetermineNextStep method to\n",
    "expose the calculator tools as potential next steps.\n"
   ]
  },
  {
   "cell_type": "code",
   "execution_count": null,
   "id": "c2632318",
   "metadata": {},
   "outputs": [],
   "source": [
    "!curl -fsSL -o baml_src/agent.baml https://raw.githubusercontent.com/humanlayer/12-factor-agents/refs/heads/main/workshops/2025-07-16/./walkthrough/02-agent.baml && cat baml_src/agent.baml"
   ]
  },
  {
   "cell_type": "markdown",
   "id": "bceb21cb",
   "metadata": {},
   "source": [
    "Now let's update our main function to show the tool call:\n"
   ]
  },
  {
   "cell_type": "markdown",
   "id": "2d3a71d0",
   "metadata": {},
   "source": [
    "**Error: File not found: ./walkthrough/02-main.py**"
   ]
  },
  {
   "cell_type": "markdown",
   "id": "45bc34a5",
   "metadata": {},
   "source": [
    "Let's try out the calculator! The agent should recognize that you want to perform a calculation\n",
    "and return the appropriate tool call instead of just a message.\n"
   ]
  },
  {
   "cell_type": "code",
   "execution_count": null,
   "id": "e2ff2a5f",
   "metadata": {},
   "outputs": [],
   "source": [
    "baml_generate()"
   ]
  },
  {
   "cell_type": "code",
   "execution_count": null,
   "id": "9fc37cc2",
   "metadata": {},
   "outputs": [],
   "source": [
    "run_with_baml_logs(main, \"can you add 3 and 4\")"
   ]
  },
  {
   "cell_type": "markdown",
   "id": "b2a083f4",
   "metadata": {},
   "source": [
    "## Chapter 3 - Process Tool Calls in a Loop"
   ]
  },
  {
   "cell_type": "markdown",
   "id": "6420485c",
   "metadata": {},
   "source": [
    "Now let's add a real agentic loop that can run the tools and get a final answer from the LLM."
   ]
  },
  {
   "cell_type": "markdown",
   "id": "3852c6d6",
   "metadata": {},
   "source": [
    "In this chapter, we'll enhance our agent to process tool calls in a loop. This means:\n",
    "- The agent can call multiple tools in sequence\n",
    "- Each tool result is fed back to the agent\n",
    "- The agent continues until it has a final answer\n",
    "\n",
    "Let's update our agent to handle tool calls properly:\n"
   ]
  },
  {
   "cell_type": "markdown",
   "id": "f4aa2bba",
   "metadata": {},
   "source": [
    "**Error: File not found: ./walkthrough/03-agent.py**"
   ]
  },
  {
   "cell_type": "markdown",
   "id": "3fb154b4",
   "metadata": {},
   "source": [
    "Now let's update our main function to use the new agent loop:\n"
   ]
  },
  {
   "cell_type": "markdown",
   "id": "9ba5640b",
   "metadata": {},
   "source": [
    "**Error: File not found: ./walkthrough/03-main.py**"
   ]
  },
  {
   "cell_type": "markdown",
   "id": "139c5cf7",
   "metadata": {},
   "source": [
    "Let's try it out! The agent should now call the tool and return the calculated result:\n"
   ]
  },
  {
   "cell_type": "code",
   "execution_count": null,
   "id": "88394103",
   "metadata": {},
   "outputs": [],
   "source": [
    "baml_generate()"
   ]
  },
  {
   "cell_type": "code",
   "execution_count": null,
   "id": "d7f0528e",
   "metadata": {},
   "outputs": [],
   "source": [
    "run_with_baml_logs(main, \"can you add 3 and 4\")"
   ]
  },
  {
   "cell_type": "markdown",
   "id": "9deb702d",
   "metadata": {},
   "source": [
    "You should see the agent:\n",
    "1. Recognize it needs to use the add tool\n",
    "2. Call the tool with the correct parameters\n",
    "3. Get the result (7)\n",
    "4. Generate a final response incorporating the result\n",
    "\n",
    "For more complex calculations, we need to handle all calculator operations. Let's add support for subtract, multiply, and divide:\n"
   ]
  },
  {
   "cell_type": "markdown",
   "id": "0a720abc",
   "metadata": {},
   "source": [
    "**Error: File not found: ./walkthrough/03b-agent.py**"
   ]
  },
  {
   "cell_type": "markdown",
   "id": "657509c6",
   "metadata": {},
   "source": [
    "Now let's test subtraction:\n"
   ]
  },
  {
   "cell_type": "code",
   "execution_count": null,
   "id": "832e756c",
   "metadata": {},
   "outputs": [],
   "source": [
    "run_with_baml_logs(main, \"can you subtract 3 from 4\")"
   ]
  },
  {
   "cell_type": "markdown",
   "id": "d30f341e",
   "metadata": {},
   "source": [
    "Test multiplication:\n"
   ]
  },
  {
   "cell_type": "code",
   "execution_count": null,
   "id": "ffba7154",
   "metadata": {},
   "outputs": [],
   "source": [
    "run_with_baml_logs(main, \"can you multiply 3 and 4\")"
   ]
  },
  {
   "cell_type": "markdown",
   "id": "80fca325",
   "metadata": {},
   "source": [
    "Finally, let's test a complex multi-step calculation:\n"
   ]
  },
  {
   "cell_type": "code",
   "execution_count": null,
   "id": "e03b7946",
   "metadata": {},
   "outputs": [],
   "source": [
    "run_with_baml_logs(main, \"can you multiply 3 and 4, then divide the result by 2 and then add 12 to that result\")"
   ]
  },
  {
   "cell_type": "markdown",
   "id": "4ff65d73",
   "metadata": {},
   "source": [
    "Congratulations! You've taken your first step into hand-rolling an agent loop.\n",
    "\n",
    "Key concepts you've learned:\n",
    "- **Thread Management**: Tracking conversation history and tool calls\n",
    "- **Tool Execution**: Processing different tool types and returning results\n",
    "- **Agent Loop**: Continuing until the agent has a final answer\n",
    "\n",
    "From here, we'll start incorporating more intermediate and advanced concepts for 12-factor agents.\n"
   ]
  },
  {
   "cell_type": "markdown",
   "id": "0123da73",
   "metadata": {},
   "source": [
    "## Chapter 4 - Add Tests to agent.baml"
   ]
  },
  {
   "cell_type": "markdown",
   "id": "d83bb0cd",
   "metadata": {},
   "source": [
    "Let's add some tests to our BAML agent."
   ]
  },
  {
   "cell_type": "markdown",
   "id": "8f3053a0",
   "metadata": {},
   "source": [
    "In this chapter, we'll learn about BAML testing - a powerful feature that helps ensure your agents behave correctly.\n",
    "\n",
    "## Why Test BAML Functions?\n",
    "\n",
    "- **Catch regressions**: Ensure changes don't break existing behavior\n",
    "- **Document behavior**: Tests serve as living documentation\n",
    "- **Validate edge cases**: Test complex scenarios and conversation flows\n",
    "- **CI/CD integration**: Run tests automatically in your pipeline\n",
    "\n",
    "Let's start with a simple test that checks the agent's ability to handle basic interactions:\n"
   ]
  },
  {
   "cell_type": "code",
   "execution_count": null,
   "id": "1f658a35",
   "metadata": {},
   "outputs": [],
   "source": [
    "!curl -fsSL -o baml_src/agent.baml https://raw.githubusercontent.com/humanlayer/12-factor-agents/refs/heads/main/workshops/2025-07-16/./walkthrough/04-agent.baml && cat baml_src/agent.baml"
   ]
  },
  {
   "cell_type": "markdown",
   "id": "b49ac5cc",
   "metadata": {},
   "source": [
    "Run the tests to see them in action:\n"
   ]
  },
  {
   "cell_type": "code",
   "execution_count": null,
   "id": "5cf19cd2",
   "metadata": {},
   "outputs": [],
   "source": [
    "!baml-cli test"
   ]
  },
  {
   "cell_type": "markdown",
   "id": "dcdae505",
   "metadata": {},
   "source": [
    "Now let's improve the tests with assertions! Assertions let you verify specific properties of the agent's output.\n",
    "\n",
    "## BAML Assertion Syntax\n",
    "\n",
    "Assertions use the `@@assert` directive:\n",
    "```\n",
    "@@assert(name, {{condition}})\n",
    "```\n",
    "\n",
    "- `name`: A descriptive name for the assertion\n",
    "- `condition`: A boolean expression using `this` to access the output\n"
   ]
  },
  {
   "cell_type": "code",
   "execution_count": null,
   "id": "c5723360",
   "metadata": {},
   "outputs": [],
   "source": [
    "!curl -fsSL -o baml_src/agent.baml https://raw.githubusercontent.com/humanlayer/12-factor-agents/refs/heads/main/workshops/2025-07-16/./walkthrough/04b-agent.baml && cat baml_src/agent.baml"
   ]
  },
  {
   "cell_type": "markdown",
   "id": "c4337109",
   "metadata": {},
   "source": [
    "Run the tests again to see assertions in action:\n"
   ]
  },
  {
   "cell_type": "code",
   "execution_count": null,
   "id": "c2fb78ec",
   "metadata": {},
   "outputs": [],
   "source": [
    "!baml-cli test"
   ]
  },
  {
   "cell_type": "markdown",
   "id": "50285a33",
   "metadata": {},
   "source": [
    "Finally, let's add more complex test cases that test multi-step conversations.\n",
    "\n",
    "These tests simulate an entire conversation flow, including:\n",
    "- User input\n",
    "- Tool calls made by the agent\n",
    "- Tool responses\n",
    "- Final agent response\n"
   ]
  },
  {
   "cell_type": "code",
   "execution_count": null,
   "id": "cce6bb6a",
   "metadata": {},
   "outputs": [],
   "source": [
    "!curl -fsSL -o baml_src/agent.baml https://raw.githubusercontent.com/humanlayer/12-factor-agents/refs/heads/main/workshops/2025-07-16/./walkthrough/04c-agent.baml && cat baml_src/agent.baml"
   ]
  },
  {
   "cell_type": "markdown",
   "id": "c9489ba1",
   "metadata": {},
   "source": [
    "Run the comprehensive test suite:\n"
   ]
  },
  {
   "cell_type": "code",
   "execution_count": null,
   "id": "0d9f99c8",
   "metadata": {},
   "outputs": [],
   "source": [
    "!baml-cli test"
   ]
  },
  {
   "cell_type": "markdown",
   "id": "9a50e7d1",
   "metadata": {},
   "source": [
    "## Key Testing Concepts\n",
    "\n",
    "1. **Test Structure**: Each test specifies functions, arguments, and assertions\n",
    "2. **Progressive Testing**: Start simple, then test complex scenarios\n",
    "3. **Conversation History**: Test how the agent handles multi-turn conversations\n",
    "4. **Tool Integration**: Verify the agent correctly uses tools in sequence\n",
    "\n",
    "With these tests in place, you can confidently modify your agent knowing that core functionality is protected by automated tests!\n"
   ]
  },
  {
   "cell_type": "markdown",
   "id": "0f449e19",
   "metadata": {},
   "source": [
    "## Chapter 5 - Multiple Human Tools"
   ]
  },
  {
   "cell_type": "markdown",
   "id": "b84a557a",
   "metadata": {},
   "source": [
    "In this section, we'll add support for multiple tools that serve to contact humans.\n"
   ]
  },
  {
   "cell_type": "markdown",
   "id": "f18fbd01",
   "metadata": {},
   "source": [
    "So far, our agent only returns a final answer with \"done_for_now\". But what if the agent needs clarification?\n",
    "\n",
    "Let's add a new tool that allows the agent to request more information from the user.\n",
    "\n",
    "## Why Human-in-the-Loop?\n",
    "\n",
    "- **Handle ambiguous inputs**: When user input is unclear or contains typos\n",
    "- **Request missing information**: When the agent needs more context\n",
    "- **Confirm sensitive operations**: Before performing important actions\n",
    "- **Interactive workflows**: Build conversational agents that engage users\n",
    "\n",
    "First, let's update our BAML file to include a ClarificationRequest tool:\n"
   ]
  },
  {
   "cell_type": "code",
   "execution_count": null,
   "id": "bce82c16",
   "metadata": {},
   "outputs": [],
   "source": [
    "!curl -fsSL -o baml_src/agent.baml https://raw.githubusercontent.com/humanlayer/12-factor-agents/refs/heads/main/workshops/2025-07-16/./walkthrough/05-agent.baml && cat baml_src/agent.baml"
   ]
  },
  {
   "cell_type": "markdown",
   "id": "fd755f15",
   "metadata": {},
   "source": [
    "Now let's update our agent to handle clarification requests:\n"
   ]
  },
  {
   "cell_type": "markdown",
   "id": "1572f76e",
   "metadata": {},
   "source": [
    "**Error: File not found: ./walkthrough/05-agent.py**"
   ]
  },
  {
   "cell_type": "markdown",
   "id": "e6ee0784",
   "metadata": {},
   "source": [
    "Finally, let's create a main function that handles human interaction:\n"
   ]
  },
  {
   "cell_type": "markdown",
   "id": "579f1cfa",
   "metadata": {},
   "source": [
    "**Error: File not found: ./walkthrough/05-main.py**"
   ]
  },
  {
   "cell_type": "markdown",
   "id": "a580e376",
   "metadata": {},
   "source": [
    "Let's test with an ambiguous input that should trigger a clarification request:\n"
   ]
  },
  {
   "cell_type": "code",
   "execution_count": null,
   "id": "2771a0b1",
   "metadata": {},
   "outputs": [],
   "source": [
    "baml_generate()"
   ]
  },
  {
   "cell_type": "code",
   "execution_count": null,
   "id": "4598b368",
   "metadata": {},
   "outputs": [],
   "source": [
    "run_with_baml_logs(main, \"can you multiply 3 and FD*(#F&&\")"
   ]
  },
  {
   "cell_type": "markdown",
   "id": "94e3c28d",
   "metadata": {},
   "source": [
    "You should see:\n",
    "1. The agent recognizes the input is unclear\n",
    "2. It asks for clarification\n",
    "3. In Colab, you'll be prompted to type a response\n",
    "4. In local testing, an auto-response is provided\n",
    "5. The agent continues with the clarified input\n",
    "\n",
    "## Interactive Testing in Colab\n",
    "\n",
    "When running in Google Colab, the `input()` function will create an interactive text box where you can type your response. Try different clarifications to see how the agent adapts!\n",
    "\n",
    "## Key Concepts\n",
    "\n",
    "- **Human Tools**: Special tool types that return control to the human\n",
    "- **Conversation Flow**: The agent can pause execution to get human input\n",
    "- **Context Preservation**: The full conversation history is maintained\n",
    "- **Flexible Handling**: Different behaviors for different environments\n"
   ]
  },
  {
   "cell_type": "markdown",
   "id": "efba392f",
   "metadata": {},
   "source": [
    "## Chapter 6 - Customize Your Prompt with Reasoning"
   ]
  },
  {
   "cell_type": "markdown",
   "id": "1743056f",
   "metadata": {},
   "source": [
    "In this section, we'll explore how to customize the prompt of the agent with reasoning steps.\n",
    "\n",
    "This is core to [factor 2 - own your prompts](https://github.com/humanlayer/12-factor-agents/blob/main/content/factor-2-own-your-prompts.md)\n"
   ]
  },
  {
   "cell_type": "markdown",
   "id": "e4ad0e27",
   "metadata": {},
   "source": [
    "## Why Add Reasoning to Prompts?\n",
    "\n",
    "Adding explicit reasoning steps to your prompts can significantly improve agent performance:\n",
    "\n",
    "- **Better decisions**: The model thinks through problems step-by-step\n",
    "- **Transparency**: You can see the model's thought process\n",
    "- **Fewer errors**: Structured thinking reduces mistakes\n",
    "- **Debugging**: Easier to identify where reasoning went wrong\n",
    "\n",
    "Let's update our agent prompt to include a reasoning step:\n"
   ]
  },
  {
   "cell_type": "code",
   "execution_count": null,
   "id": "561a0d91",
   "metadata": {},
   "outputs": [],
   "source": [
    "!curl -fsSL -o baml_src/agent.baml https://raw.githubusercontent.com/humanlayer/12-factor-agents/refs/heads/main/workshops/2025-07-16/./walkthrough/06-agent.baml && cat baml_src/agent.baml"
   ]
  },
  {
   "cell_type": "markdown",
   "id": "5e4691ba",
   "metadata": {},
   "source": [
    "Now let's test it with a simple calculation to see the reasoning in action:\n",
    "\n",
    "**Note:** The BAML logs below will show the model's reasoning steps. Look for the `<reasoning>` tags in the logs to see how the model thinks through the problem before deciding what to do.\n"
   ]
  },
  {
   "cell_type": "code",
   "execution_count": null,
   "id": "02a49c84",
   "metadata": {},
   "outputs": [],
   "source": [
    "baml_generate()"
   ]
  },
  {
   "cell_type": "code",
   "execution_count": null,
   "id": "e6bfa947",
   "metadata": {},
   "outputs": [],
   "source": [
    "run_with_baml_logs(main, \"can you multiply 3 and 4\")"
   ]
  },
  {
   "cell_type": "markdown",
   "id": "b133f043",
   "metadata": {},
   "source": [
    "You should see the reasoning steps in the BAML logs above. The model explicitly thinks through what it needs to do before making a decision.\n",
    "\n",
    "## Advanced Prompt Engineering\n",
    "\n",
    "You can enhance your prompts further by:\n",
    "- Adding specific reasoning templates for different tasks\n",
    "- Including examples of good reasoning\n",
    "- Structuring the reasoning with numbered steps\n",
    "- Adding checks for common mistakes\n",
    "\n",
    "The key is to guide the model's thinking process while still allowing flexibility.\n"
   ]
  },
  {
   "cell_type": "markdown",
   "id": "00644f98",
   "metadata": {},
   "source": [
    "## Chapter 7 - Customize Your Context Window"
   ]
  },
  {
   "cell_type": "markdown",
   "id": "aa223c91",
   "metadata": {},
   "source": [
    "In this section, we'll explore how to customize the context window of the agent.\n",
    "\n",
    "This is core to [factor 3 - own your context window](https://github.com/humanlayer/12-factor-agents/blob/main/content/factor-3-own-your-context-window.md)\n"
   ]
  },
  {
   "cell_type": "markdown",
   "id": "655cebf4",
   "metadata": {},
   "source": [
    "## Context Window Serialization\n",
    "\n",
    "How you format your conversation history can significantly impact:\n",
    "- **Token usage**: Some formats are more efficient\n",
    "- **Model understanding**: Clear structure helps the model\n",
    "- **Debugging**: Readable formats help development\n",
    "\n",
    "Let's implement two serialization formats: pretty-printed JSON and XML.\n"
   ]
  },
  {
   "cell_type": "markdown",
   "id": "192d9742",
   "metadata": {},
   "source": [
    "**Error: File not found: ./walkthrough/07-agent.py**"
   ]
  },
  {
   "cell_type": "markdown",
   "id": "6f99cc8d",
   "metadata": {},
   "source": [
    "Now let's create a main function that can switch between formats:\n"
   ]
  },
  {
   "cell_type": "markdown",
   "id": "7e7c311d",
   "metadata": {},
   "source": [
    "**Error: File not found: ./walkthrough/07-main.py**"
   ]
  },
  {
   "cell_type": "markdown",
   "id": "56de35ee",
   "metadata": {},
   "source": [
    "Let's test with JSON format first:\n"
   ]
  },
  {
   "cell_type": "code",
   "execution_count": null,
   "id": "e888c8da",
   "metadata": {},
   "outputs": [],
   "source": [
    "baml_generate()"
   ]
  },
  {
   "cell_type": "code",
   "execution_count": null,
   "id": "16c143e9",
   "metadata": {},
   "outputs": [],
   "source": [
    "run_with_baml_logs(main, \"can you multiply 3 and 4, then divide the result by 2\", use_xml=False)"
   ]
  },
  {
   "cell_type": "markdown",
   "id": "42ffea09",
   "metadata": {},
   "source": [
    "Now let's try the same with XML format:\n"
   ]
  },
  {
   "cell_type": "code",
   "execution_count": null,
   "id": "d2d94b21",
   "metadata": {},
   "outputs": [],
   "source": [
    "run_with_baml_logs(main, \"can you multiply 3 and 4, then divide the result by 2\", use_xml=True)"
   ]
  },
  {
   "cell_type": "markdown",
   "id": "55f9ff32",
   "metadata": {},
   "source": [
    "## XML vs JSON Trade-offs\n",
    "\n",
    "**XML Benefits**:\n",
    "- More token-efficient for nested data\n",
    "- Clear hierarchy with opening/closing tags\n",
    "- Better for long conversations\n",
    "\n",
    "**JSON Benefits**:\n",
    "- Familiar to most developers\n",
    "- Easy to parse and debug\n",
    "- Native to JavaScript/Python\n",
    "\n",
    "Choose based on your specific needs and token constraints!"
   ]
  }
 ],
 "metadata": {},
 "nbformat": 4,
 "nbformat_minor": 5
}
